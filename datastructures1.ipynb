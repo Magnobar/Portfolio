{
  "nbformat": 4,
  "nbformat_minor": 0,
  "metadata": {
    "colab": {
      "provenance": [],
      "authorship_tag": "ABX9TyMsBKAdnZ7AzX7D5FUmQ4VJ",
      "include_colab_link": true
    },
    "kernelspec": {
      "name": "python3",
      "display_name": "Python 3"
    },
    "language_info": {
      "name": "python"
    }
  },
  "cells": [
    {
      "cell_type": "markdown",
      "metadata": {
        "id": "view-in-github",
        "colab_type": "text"
      },
      "source": [
        "<a href=\"https://colab.research.google.com/github/Magnobar/Portfolio/blob/main/datastructures1.ipynb\" target=\"_parent\"><img src=\"https://colab.research.google.com/assets/colab-badge.svg\" alt=\"Open In Colab\"/></a>"
      ]
    },
    {
      "cell_type": "code",
      "execution_count": 1,
      "metadata": {
        "colab": {
          "base_uri": "https://localhost:8080/"
        },
        "id": "8MgDOSl_RSj7",
        "outputId": "20b921ed-f83e-4921-a3ec-b700c8de7db3"
      },
      "outputs": [
        {
          "output_type": "execute_result",
          "data": {
            "text/plain": [
              "[]"
            ]
          },
          "metadata": {},
          "execution_count": 1
        }
      ],
      "source": [
        "[]"
      ]
    },
    {
      "cell_type": "code",
      "source": [
        "type([])"
      ],
      "metadata": {
        "colab": {
          "base_uri": "https://localhost:8080/"
        },
        "id": "8RFSUZ1URjpK",
        "outputId": "618cf841-fc3c-4c7e-ce6d-7d225fd9bfbb"
      },
      "execution_count": 2,
      "outputs": [
        {
          "output_type": "execute_result",
          "data": {
            "text/plain": [
              "list"
            ]
          },
          "metadata": {},
          "execution_count": 2
        }
      ]
    },
    {
      "cell_type": "code",
      "source": [
        "sample_list = ['paracetamol', 'aspirin', 'ibuprofen', 'naproxen', 'piroxicam']\n",
        "sample_list"
      ],
      "metadata": {
        "colab": {
          "base_uri": "https://localhost:8080/"
        },
        "id": "k9Ti_b8SRrsx",
        "outputId": "56553ea5-80e2-4847-fabe-920a708252f6"
      },
      "execution_count": 5,
      "outputs": [
        {
          "output_type": "execute_result",
          "data": {
            "text/plain": [
              "['paracetamol', 'aspirin', 'ibuprofen', 'naproxen', 'piroxicam']"
            ]
          },
          "metadata": {},
          "execution_count": 5
        }
      ]
    },
    {
      "cell_type": "code",
      "source": [
        "sample_list.append('diclofenac')\n",
        "sample_list"
      ],
      "metadata": {
        "colab": {
          "base_uri": "https://localhost:8080/"
        },
        "id": "VMH8KspmSD6A",
        "outputId": "3f899175-9bb5-47b3-9f6e-4ad355d7eac7"
      },
      "execution_count": 6,
      "outputs": [
        {
          "output_type": "execute_result",
          "data": {
            "text/plain": [
              "['paracetamol', 'aspirin', 'ibuprofen', 'naproxen', 'piroxicam', 'diclofenac']"
            ]
          },
          "metadata": {},
          "execution_count": 6
        }
      ]
    },
    {
      "cell_type": "code",
      "source": [
        "sample_list.remove('aspirin')\n",
        "sample_list"
      ],
      "metadata": {
        "colab": {
          "base_uri": "https://localhost:8080/"
        },
        "id": "mHRNCWF0SSQ-",
        "outputId": "c3c33c57-890a-48b8-fb83-df1ec1c36812"
      },
      "execution_count": 7,
      "outputs": [
        {
          "output_type": "execute_result",
          "data": {
            "text/plain": [
              "['paracetamol', 'ibuprofen', 'naproxen', 'piroxicam', 'diclofenac']"
            ]
          },
          "metadata": {},
          "execution_count": 7
        }
      ]
    },
    {
      "cell_type": "code",
      "source": [
        "sample_list[0]"
      ],
      "metadata": {
        "colab": {
          "base_uri": "https://localhost:8080/",
          "height": 35
        },
        "id": "phKcoVkFSbsj",
        "outputId": "df667725-5e21-4d76-bcbd-7bd35625cd2b"
      },
      "execution_count": 8,
      "outputs": [
        {
          "output_type": "execute_result",
          "data": {
            "text/plain": [
              "'paracetamol'"
            ],
            "application/vnd.google.colaboratory.intrinsic+json": {
              "type": "string"
            }
          },
          "metadata": {},
          "execution_count": 8
        }
      ]
    },
    {
      "cell_type": "code",
      "source": [
        "sample_list[-1]\n"
      ],
      "metadata": {
        "colab": {
          "base_uri": "https://localhost:8080/",
          "height": 35
        },
        "id": "PiqL46hRSkcm",
        "outputId": "5af4613f-9e7e-4400-e3bd-43d105b18248"
      },
      "execution_count": 9,
      "outputs": [
        {
          "output_type": "execute_result",
          "data": {
            "text/plain": [
              "'diclofenac'"
            ],
            "application/vnd.google.colaboratory.intrinsic+json": {
              "type": "string"
            }
          },
          "metadata": {},
          "execution_count": 9
        }
      ]
    },
    {
      "cell_type": "code",
      "source": [
        "sample_list.insert(5,\"aspirin\")\n",
        "sample_list"
      ],
      "metadata": {
        "colab": {
          "base_uri": "https://localhost:8080/"
        },
        "id": "M2c_jGtYSv4b",
        "outputId": "a76b30bf-d878-4db8-97bc-bae947588e65"
      },
      "execution_count": 10,
      "outputs": [
        {
          "output_type": "execute_result",
          "data": {
            "text/plain": [
              "['paracetamol', 'ibuprofen', 'naproxen', 'piroxicam', 'diclofenac', 'aspirin']"
            ]
          },
          "metadata": {},
          "execution_count": 10
        }
      ]
    },
    {
      "cell_type": "code",
      "source": [
        "sample_list_copy = sample_list.copy()\n",
        "sample_list"
      ],
      "metadata": {
        "colab": {
          "base_uri": "https://localhost:8080/"
        },
        "id": "juekVXO7S5uw",
        "outputId": "3e7dfe6d-f955-4627-93af-fe996a01c3b3"
      },
      "execution_count": 11,
      "outputs": [
        {
          "output_type": "execute_result",
          "data": {
            "text/plain": [
              "['paracetamol', 'ibuprofen', 'naproxen', 'piroxicam', 'diclofenac', 'aspirin']"
            ]
          },
          "metadata": {},
          "execution_count": 11
        }
      ]
    },
    {
      "cell_type": "code",
      "source": [
        "sample_list_copy.reverse()\n",
        "sample_list_copy"
      ],
      "metadata": {
        "colab": {
          "base_uri": "https://localhost:8080/"
        },
        "id": "j35Vept4TE3w",
        "outputId": "ed3a7405-c5c5-4f5e-e24b-028c6c75b276"
      },
      "execution_count": 12,
      "outputs": [
        {
          "output_type": "execute_result",
          "data": {
            "text/plain": [
              "['aspirin', 'diclofenac', 'piroxicam', 'naproxen', 'ibuprofen', 'paracetamol']"
            ]
          },
          "metadata": {},
          "execution_count": 12
        }
      ]
    },
    {
      "cell_type": "code",
      "source": [
        "sample_list_copy.sort()\n",
        "sample_list_copy"
      ],
      "metadata": {
        "colab": {
          "base_uri": "https://localhost:8080/"
        },
        "id": "kiidombOTSX_",
        "outputId": "10db2d55-006a-4aa6-bfc4-575f55a0d6ab"
      },
      "execution_count": 13,
      "outputs": [
        {
          "output_type": "execute_result",
          "data": {
            "text/plain": [
              "['aspirin', 'diclofenac', 'ibuprofen', 'naproxen', 'paracetamol', 'piroxicam']"
            ]
          },
          "metadata": {},
          "execution_count": 13
        }
      ]
    },
    {
      "cell_type": "markdown",
      "source": [],
      "metadata": {
        "id": "eZ9yQguVTly6"
      }
    },
    {
      "cell_type": "code",
      "source": [
        "sample_list_numeric =[1,12,23,34,90,80,70,67]\n",
        "sample_list_numeric"
      ],
      "metadata": {
        "colab": {
          "base_uri": "https://localhost:8080/"
        },
        "id": "06LQDyRnTav5",
        "outputId": "b79fe65a-d460-487a-f51a-1358facca50e"
      },
      "execution_count": 14,
      "outputs": [
        {
          "output_type": "execute_result",
          "data": {
            "text/plain": [
              "[1, 12, 23, 34, 90, 80, 70, 67]"
            ]
          },
          "metadata": {},
          "execution_count": 14
        }
      ]
    },
    {
      "cell_type": "code",
      "source": [
        "sample_list_numeric.sort()\n",
        "sample_list_numeric"
      ],
      "metadata": {
        "colab": {
          "base_uri": "https://localhost:8080/"
        },
        "id": "dOBEw1OnTqDI",
        "outputId": "2bb6c959-2041-4952-bda2-8639f5f7bb86"
      },
      "execution_count": 15,
      "outputs": [
        {
          "output_type": "execute_result",
          "data": {
            "text/plain": [
              "[1, 12, 23, 34, 67, 70, 80, 90]"
            ]
          },
          "metadata": {},
          "execution_count": 15
        }
      ]
    },
    {
      "cell_type": "code",
      "source": [
        "sample_list_numeric.pop()\n",
        "sample_list_numeric"
      ],
      "metadata": {
        "colab": {
          "base_uri": "https://localhost:8080/"
        },
        "id": "o_JHKQb-T0ar",
        "outputId": "d062d4e7-4c5b-45c5-83e5-b41503f314f4"
      },
      "execution_count": 16,
      "outputs": [
        {
          "output_type": "execute_result",
          "data": {
            "text/plain": [
              "[1, 12, 23, 34, 67, 70, 80]"
            ]
          },
          "metadata": {},
          "execution_count": 16
        }
      ]
    },
    {
      "cell_type": "markdown",
      "source": [
        "TUPLES"
      ],
      "metadata": {
        "id": "YKj_5MJAUAaa"
      }
    },
    {
      "cell_type": "code",
      "source": [
        "\"paracetamol\", 500"
      ],
      "metadata": {
        "colab": {
          "base_uri": "https://localhost:8080/"
        },
        "id": "pb7K_p9LULWJ",
        "outputId": "02936736-165c-40ca-aa1f-3aaa5972d9f5"
      },
      "execution_count": 17,
      "outputs": [
        {
          "output_type": "execute_result",
          "data": {
            "text/plain": [
              "('paracetamol', 500)"
            ]
          },
          "metadata": {},
          "execution_count": 17
        }
      ]
    },
    {
      "cell_type": "code",
      "source": [
        "type(('paracetamol', 500))"
      ],
      "metadata": {
        "colab": {
          "base_uri": "https://localhost:8080/"
        },
        "id": "wl916qcMUYnO",
        "outputId": "09929784-7b1e-4456-ad0c-b4cfaa1d93ca"
      },
      "execution_count": 18,
      "outputs": [
        {
          "output_type": "execute_result",
          "data": {
            "text/plain": [
              "tuple"
            ]
          },
          "metadata": {},
          "execution_count": 18
        }
      ]
    },
    {
      "cell_type": "code",
      "source": [
        "sample_tuple_string = (\"paracetamol\", \"ibuprofen\", \"aspirin\")\n",
        "type(sample_tuple_string)"
      ],
      "metadata": {
        "colab": {
          "base_uri": "https://localhost:8080/"
        },
        "id": "RSJ_erMJUhQO",
        "outputId": "996a0141-b009-4b5b-a4d4-e4e819ff6e14"
      },
      "execution_count": 20,
      "outputs": [
        {
          "output_type": "execute_result",
          "data": {
            "text/plain": [
              "tuple"
            ]
          },
          "metadata": {},
          "execution_count": 20
        }
      ]
    },
    {
      "cell_type": "code",
      "source": [
        "sample_tuple_numeric = (500,200,325)\n",
        "type(sample_tuple_numeric)"
      ],
      "metadata": {
        "colab": {
          "base_uri": "https://localhost:8080/"
        },
        "id": "szxa9I61U5Ls",
        "outputId": "b2861ddf-f143-4328-8899-8b0543fec892"
      },
      "execution_count": 21,
      "outputs": [
        {
          "output_type": "execute_result",
          "data": {
            "text/plain": [
              "tuple"
            ]
          },
          "metadata": {},
          "execution_count": 21
        }
      ]
    },
    {
      "cell_type": "code",
      "source": [
        "sample_tuple_numeric[2]"
      ],
      "metadata": {
        "colab": {
          "base_uri": "https://localhost:8080/"
        },
        "id": "gkSp9cQ7VHOa",
        "outputId": "50db54c7-39c2-46e3-a145-cce8055f8d03"
      },
      "execution_count": 22,
      "outputs": [
        {
          "output_type": "execute_result",
          "data": {
            "text/plain": [
              "325"
            ]
          },
          "metadata": {},
          "execution_count": 22
        }
      ]
    },
    {
      "cell_type": "code",
      "source": [
        "sample_list_numeric[-1]"
      ],
      "metadata": {
        "colab": {
          "base_uri": "https://localhost:8080/"
        },
        "id": "HO2qRM5aVHFI",
        "outputId": "a33a7144-6266-4783-ec01-19d2988cca45"
      },
      "execution_count": 23,
      "outputs": [
        {
          "output_type": "execute_result",
          "data": {
            "text/plain": [
              "80"
            ]
          },
          "metadata": {},
          "execution_count": 23
        }
      ]
    },
    {
      "cell_type": "code",
      "source": [
        "sample_tuple_numeric[-1]"
      ],
      "metadata": {
        "colab": {
          "base_uri": "https://localhost:8080/"
        },
        "id": "Cyc3tCoyVNB-",
        "outputId": "0b413103-4e97-4f6b-f643-5573062d1d98"
      },
      "execution_count": 24,
      "outputs": [
        {
          "output_type": "execute_result",
          "data": {
            "text/plain": [
              "325"
            ]
          },
          "metadata": {},
          "execution_count": 24
        }
      ]
    },
    {
      "cell_type": "code",
      "source": [
        "sample_tuple_string + sample_tuple_numeric"
      ],
      "metadata": {
        "colab": {
          "base_uri": "https://localhost:8080/"
        },
        "id": "yt1r1oe8VeHa",
        "outputId": "ad5005c1-0bca-4d65-ce1d-0b62f67a8162"
      },
      "execution_count": 25,
      "outputs": [
        {
          "output_type": "execute_result",
          "data": {
            "text/plain": [
              "('paracetamol', 'ibuprofen', 'aspirin', 500, 200, 325)"
            ]
          },
          "metadata": {},
          "execution_count": 25
        }
      ]
    },
    {
      "cell_type": "code",
      "source": [],
      "metadata": {
        "id": "C6lKzDlTV300"
      },
      "execution_count": null,
      "outputs": []
    },
    {
      "cell_type": "markdown",
      "source": [
        "SETS"
      ],
      "metadata": {
        "id": "PwzObHYCV2xC"
      }
    },
    {
      "cell_type": "code",
      "source": [
        "sample_set = {\"omeprazole\", \"rabeprazol\", \"pantoprazole\", \"rabeprazole\", \"lanzoprazole\"}\n",
        "sample_set"
      ],
      "metadata": {
        "colab": {
          "base_uri": "https://localhost:8080/"
        },
        "id": "4MUvWwZeV4tP",
        "outputId": "b39c9ede-66f7-4010-ac9c-6a58881449a5"
      },
      "execution_count": 27,
      "outputs": [
        {
          "output_type": "execute_result",
          "data": {
            "text/plain": [
              "{'lanzoprazole', 'omeprazole', 'pantoprazole', 'rabeprazol', 'rabeprazole'}"
            ]
          },
          "metadata": {},
          "execution_count": 27
        }
      ]
    },
    {
      "cell_type": "code",
      "source": [
        "type(sample_set)"
      ],
      "metadata": {
        "colab": {
          "base_uri": "https://localhost:8080/"
        },
        "id": "R97e-U-9WVj4",
        "outputId": "22da24d1-2941-4a36-c762-41637220f181"
      },
      "execution_count": 28,
      "outputs": [
        {
          "output_type": "execute_result",
          "data": {
            "text/plain": [
              "set"
            ]
          },
          "metadata": {},
          "execution_count": 28
        }
      ]
    },
    {
      "cell_type": "code",
      "source": [
        "sample_patient_set = {\"kuki\",50,123321,\"kukiland\"}\n",
        "print(type(sample_patient_set))\n",
        "sample_patient_set"
      ],
      "metadata": {
        "colab": {
          "base_uri": "https://localhost:8080/"
        },
        "id": "DJheS5ppWfmw",
        "outputId": "9cb4ae1d-9874-4f46-f2ad-d9fe8f8c3e45"
      },
      "execution_count": 32,
      "outputs": [
        {
          "output_type": "stream",
          "name": "stdout",
          "text": [
            "<class 'set'>\n"
          ]
        },
        {
          "output_type": "execute_result",
          "data": {
            "text/plain": [
              "{123321, 50, 'kuki', 'kukiland'}"
            ]
          },
          "metadata": {},
          "execution_count": 32
        }
      ]
    },
    {
      "cell_type": "code",
      "source": [
        "\"omeprazole\" in sample_set"
      ],
      "metadata": {
        "colab": {
          "base_uri": "https://localhost:8080/"
        },
        "id": "8CbNGB1nXIDP",
        "outputId": "6dd88aca-6da4-4815-e30e-5407551cec6a"
      },
      "execution_count": 33,
      "outputs": [
        {
          "output_type": "execute_result",
          "data": {
            "text/plain": [
              "True"
            ]
          },
          "metadata": {},
          "execution_count": 33
        }
      ]
    },
    {
      "cell_type": "code",
      "source": [
        "\"esoomeprazole\" in sample_set"
      ],
      "metadata": {
        "colab": {
          "base_uri": "https://localhost:8080/"
        },
        "id": "q3DbuZ1bXRkh",
        "outputId": "9d48c209-77ea-472e-b2ed-f7ab6ac7f87a"
      },
      "execution_count": 34,
      "outputs": [
        {
          "output_type": "execute_result",
          "data": {
            "text/plain": [
              "False"
            ]
          },
          "metadata": {},
          "execution_count": 34
        }
      ]
    },
    {
      "cell_type": "code",
      "source": [
        "sample_set.add(\"asomeprazole\")\n",
        "sample_set"
      ],
      "metadata": {
        "colab": {
          "base_uri": "https://localhost:8080/"
        },
        "id": "BeuXQZWnXcH8",
        "outputId": "e1e55c2b-2b24-4834-ecf0-9160fdb07149"
      },
      "execution_count": 35,
      "outputs": [
        {
          "output_type": "execute_result",
          "data": {
            "text/plain": [
              "{'asomeprazole',\n",
              " 'lanzoprazole',\n",
              " 'omeprazole',\n",
              " 'pantoprazole',\n",
              " 'rabeprazol',\n",
              " 'rabeprazole'}"
            ]
          },
          "metadata": {},
          "execution_count": 35
        }
      ]
    },
    {
      "cell_type": "code",
      "source": [
        "sample_set.remove(\"asomeprazole\")\n",
        "sample_set"
      ],
      "metadata": {
        "colab": {
          "base_uri": "https://localhost:8080/"
        },
        "id": "qQob0JWYXk75",
        "outputId": "6f9e9bdf-a147-4814-b9b7-ec494df9934a"
      },
      "execution_count": 36,
      "outputs": [
        {
          "output_type": "execute_result",
          "data": {
            "text/plain": [
              "{'lanzoprazole', 'omeprazole', 'pantoprazole', 'rabeprazol', 'rabeprazole'}"
            ]
          },
          "metadata": {},
          "execution_count": 36
        }
      ]
    },
    {
      "cell_type": "code",
      "source": [
        "sample_set.pop()"
      ],
      "metadata": {
        "colab": {
          "base_uri": "https://localhost:8080/",
          "height": 35
        },
        "id": "-1QrKzdOXvdw",
        "outputId": "a9e043dd-17fa-4264-f20b-39df83771224"
      },
      "execution_count": 37,
      "outputs": [
        {
          "output_type": "execute_result",
          "data": {
            "text/plain": [
              "'omeprazole'"
            ],
            "application/vnd.google.colaboratory.intrinsic+json": {
              "type": "string"
            }
          },
          "metadata": {},
          "execution_count": 37
        }
      ]
    },
    {
      "cell_type": "code",
      "source": [
        "sample_set.union(sample_patient_set)"
      ],
      "metadata": {
        "colab": {
          "base_uri": "https://localhost:8080/"
        },
        "id": "MZVMh_4OX_H8",
        "outputId": "df2375ef-229e-4c27-9a67-7b57e82de921"
      },
      "execution_count": 38,
      "outputs": [
        {
          "output_type": "execute_result",
          "data": {
            "text/plain": [
              "{123321,\n",
              " 50,\n",
              " 'kuki',\n",
              " 'kukiland',\n",
              " 'lanzoprazole',\n",
              " 'pantoprazole',\n",
              " 'rabeprazol',\n",
              " 'rabeprazole'}"
            ]
          },
          "metadata": {},
          "execution_count": 38
        }
      ]
    },
    {
      "cell_type": "markdown",
      "source": [
        "DICTIONARIES"
      ],
      "metadata": {
        "id": "6aIZtZNBYK9U"
      }
    },
    {
      "cell_type": "code",
      "source": [
        "sample_disctionary = {\"paracetamol\": 500, \"ibuprofen\" : 200, \"aspirine\": 230, \"tramadol\": 50}\n",
        "sample_disctionary"
      ],
      "metadata": {
        "colab": {
          "base_uri": "https://localhost:8080/"
        },
        "id": "h2xF7DGbYMy6",
        "outputId": "87e4cb8d-c40b-4454-c773-51e684e8b9c8"
      },
      "execution_count": 39,
      "outputs": [
        {
          "output_type": "execute_result",
          "data": {
            "text/plain": [
              "{'paracetamol': 500, 'ibuprofen': 200, 'aspirine': 230, 'tramadol': 50}"
            ]
          },
          "metadata": {},
          "execution_count": 39
        }
      ]
    },
    {
      "cell_type": "code",
      "source": [
        "type(sample_disctionary)"
      ],
      "metadata": {
        "colab": {
          "base_uri": "https://localhost:8080/"
        },
        "id": "ilXYo7ikYlpS",
        "outputId": "df226666-5054-4544-dffe-a4b65aa62dc1"
      },
      "execution_count": 40,
      "outputs": [
        {
          "output_type": "execute_result",
          "data": {
            "text/plain": [
              "dict"
            ]
          },
          "metadata": {},
          "execution_count": 40
        }
      ]
    },
    {
      "cell_type": "code",
      "source": [
        "sample_dictionary_antihypertensives = {\"diuretics\":[\"spironolactone\",\"furosemide\",\"hydrichlorothaizide\"],\n",
        "                                       \"betablockers\":[\"atenolol\",\"propranolol\",\"metoprolol\"],\n",
        "                                       \"ACEI\":[\"lisipropil\",\"enalapril\",\"ramipril\"]}"
      ],
      "metadata": {
        "id": "j3h8NSYvYqpE"
      },
      "execution_count": 44,
      "outputs": []
    },
    {
      "cell_type": "code",
      "source": [
        "sample_dictionary_antihypertensives"
      ],
      "metadata": {
        "colab": {
          "base_uri": "https://localhost:8080/"
        },
        "id": "DpxECKVsa2hV",
        "outputId": "23741eb9-e7eb-44f8-ace1-9dd0fabfe798"
      },
      "execution_count": 45,
      "outputs": [
        {
          "output_type": "execute_result",
          "data": {
            "text/plain": [
              "{'diuretics': ['spironolactone', 'furosemide', 'hydrichlorothaizide'],\n",
              " 'betablockers': ['atenolol', 'propranolol', 'metoprolol'],\n",
              " 'ACEI': ['lisipropil', 'enalapril', 'ramipril']}"
            ]
          },
          "metadata": {},
          "execution_count": 45
        }
      ]
    },
    {
      "cell_type": "code",
      "source": [
        "type(sample_dictionary_antihypertensives)"
      ],
      "metadata": {
        "colab": {
          "base_uri": "https://localhost:8080/"
        },
        "id": "dBS1cWrXa63d",
        "outputId": "af625105-c50a-4909-8b39-a436c5550a5b"
      },
      "execution_count": 46,
      "outputs": [
        {
          "output_type": "execute_result",
          "data": {
            "text/plain": [
              "dict"
            ]
          },
          "metadata": {},
          "execution_count": 46
        }
      ]
    },
    {
      "cell_type": "code",
      "source": [
        "sample_dictionary_antihypertensives[\"betablockers\"]"
      ],
      "metadata": {
        "colab": {
          "base_uri": "https://localhost:8080/"
        },
        "id": "Bz3MuEm4a-db",
        "outputId": "53afcf42-7630-426b-ed2c-f81f8a30b82a"
      },
      "execution_count": 47,
      "outputs": [
        {
          "output_type": "execute_result",
          "data": {
            "text/plain": [
              "['atenolol', 'propranolol', 'metoprolol']"
            ]
          },
          "metadata": {},
          "execution_count": 47
        }
      ]
    },
    {
      "cell_type": "code",
      "source": [],
      "metadata": {
        "id": "LVKEh-O_bG8-"
      },
      "execution_count": null,
      "outputs": []
    },
    {
      "cell_type": "code",
      "source": [
        "sample_dictionary_antihypertensives[\"betablockers\"][1]"
      ],
      "metadata": {
        "colab": {
          "base_uri": "https://localhost:8080/",
          "height": 35
        },
        "id": "ApHoSvzXbIWg",
        "outputId": "692971a3-922d-44d5-f185-fb8a690b7aaa"
      },
      "execution_count": 48,
      "outputs": [
        {
          "output_type": "execute_result",
          "data": {
            "text/plain": [
              "'propranolol'"
            ],
            "application/vnd.google.colaboratory.intrinsic+json": {
              "type": "string"
            }
          },
          "metadata": {},
          "execution_count": 48
        }
      ]
    },
    {
      "cell_type": "code",
      "source": [
        "sample_dictionary_antihypertensives.keys()"
      ],
      "metadata": {
        "colab": {
          "base_uri": "https://localhost:8080/"
        },
        "id": "QNqRrwT6bRY6",
        "outputId": "c68489aa-b3b5-426f-c05c-4c50aa34decd"
      },
      "execution_count": 49,
      "outputs": [
        {
          "output_type": "execute_result",
          "data": {
            "text/plain": [
              "dict_keys(['diuretics', 'betablockers', 'ACEI'])"
            ]
          },
          "metadata": {},
          "execution_count": 49
        }
      ]
    },
    {
      "cell_type": "code",
      "source": [
        "sample_dictionary_antihypertensives.update({\"Ca blockers\" : [\"amlodipine\",\"nifedipine\", \"verapamil\"]})"
      ],
      "metadata": {
        "id": "7S9x2X87bXcB"
      },
      "execution_count": 51,
      "outputs": []
    },
    {
      "cell_type": "code",
      "source": [
        "sample_dictionary_antihypertensives"
      ],
      "metadata": {
        "colab": {
          "base_uri": "https://localhost:8080/"
        },
        "id": "gjEatufvb9_J",
        "outputId": "32ed044e-e949-454d-be9a-6da6fc7c900b"
      },
      "execution_count": 52,
      "outputs": [
        {
          "output_type": "execute_result",
          "data": {
            "text/plain": [
              "{'diuretics': ['spironolactone', 'furosemide', 'hydrichlorothaizide'],\n",
              " 'betablockers': ['atenolol', 'propranolol', 'metoprolol'],\n",
              " 'ACEI': ['lisipropil', 'enalapril', 'ramipril'],\n",
              " 'Ca blockers': ['amlodipine', 'nifedipine', 'verapamil']}"
            ]
          },
          "metadata": {},
          "execution_count": 52
        }
      ]
    },
    {
      "cell_type": "code",
      "source": [
        "patient_info_dictionary = dict(name=\"kuki\", age=20,nationality=\"kukiland\")\n",
        "patient_info_dictionary"
      ],
      "metadata": {
        "colab": {
          "base_uri": "https://localhost:8080/"
        },
        "id": "RLX9RWEHcDxo",
        "outputId": "ff02155d-a26e-4d4a-ed10-454bc8e7ca00"
      },
      "execution_count": 53,
      "outputs": [
        {
          "output_type": "execute_result",
          "data": {
            "text/plain": [
              "{'name': 'kuki', 'age': 20, 'nationality': 'kukiland'}"
            ]
          },
          "metadata": {},
          "execution_count": 53
        }
      ]
    },
    {
      "cell_type": "markdown",
      "source": [],
      "metadata": {
        "id": "M8kR1Kh9gFg9"
      }
    },
    {
      "cell_type": "markdown",
      "source": [
        "ARITMETIC OPERATIONS"
      ],
      "metadata": {
        "id": "zdH80A8OgJGY"
      }
    },
    {
      "cell_type": "code",
      "source": [
        "4 + 4"
      ],
      "metadata": {
        "colab": {
          "base_uri": "https://localhost:8080/"
        },
        "id": "RSzmDQ88cZFQ",
        "outputId": "d602e1e1-4267-48db-f761-ba700f2b20af"
      },
      "execution_count": 54,
      "outputs": [
        {
          "output_type": "execute_result",
          "data": {
            "text/plain": [
              "8"
            ]
          },
          "metadata": {},
          "execution_count": 54
        }
      ]
    },
    {
      "cell_type": "code",
      "source": [
        "\"hydro\" + \"chlorothiazide\""
      ],
      "metadata": {
        "colab": {
          "base_uri": "https://localhost:8080/",
          "height": 35
        },
        "id": "lYDC7GgzgOUY",
        "outputId": "a86201ad-b355-4191-982f-ab9525ae33c1"
      },
      "execution_count": 55,
      "outputs": [
        {
          "output_type": "execute_result",
          "data": {
            "text/plain": [
              "'hydrochlorothiazide'"
            ],
            "application/vnd.google.colaboratory.intrinsic+json": {
              "type": "string"
            }
          },
          "metadata": {},
          "execution_count": 55
        }
      ]
    },
    {
      "cell_type": "code",
      "source": [
        "analgesics = [\"paracetamol\",\"iburpofen\",\"diclofecac\"]\n",
        "dosage_strength_in_mg = [500, 200, 50]\n",
        "analgesics + dosage_strength_in_mg"
      ],
      "metadata": {
        "colab": {
          "base_uri": "https://localhost:8080/"
        },
        "id": "DAh_bAZQgadm",
        "outputId": "145a498b-61fe-4c58-a51a-b7a3d4086002"
      },
      "execution_count": 56,
      "outputs": [
        {
          "output_type": "execute_result",
          "data": {
            "text/plain": [
              "['paracetamol', 'iburpofen', 'diclofecac', 500, 200, 50]"
            ]
          },
          "metadata": {},
          "execution_count": 56
        }
      ]
    },
    {
      "cell_type": "code",
      "source": [
        "value_1 = 100\n",
        "value_2 = 20"
      ],
      "metadata": {
        "id": "LmwueN0Ng3aE"
      },
      "execution_count": 57,
      "outputs": []
    },
    {
      "cell_type": "code",
      "source": [
        "value_1 - value_2"
      ],
      "metadata": {
        "colab": {
          "base_uri": "https://localhost:8080/"
        },
        "id": "wG_sULgahALc",
        "outputId": "4065a573-8183-45a2-a03c-c8dbe2fcaacf"
      },
      "execution_count": 58,
      "outputs": [
        {
          "output_type": "execute_result",
          "data": {
            "text/plain": [
              "80"
            ]
          },
          "metadata": {},
          "execution_count": 58
        }
      ]
    },
    {
      "cell_type": "code",
      "source": [
        "float_1 = 4.5\n",
        "float_2 = 3.124"
      ],
      "metadata": {
        "id": "0DdtmD_yhFL8"
      },
      "execution_count": 59,
      "outputs": []
    },
    {
      "cell_type": "code",
      "source": [
        "float_combined = float_1 * float_2\n",
        "float_combined"
      ],
      "metadata": {
        "colab": {
          "base_uri": "https://localhost:8080/"
        },
        "id": "ZIvNmbCOhcoO",
        "outputId": "f1e1c6e3-c0ee-4a41-d8e2-79dd75704f05"
      },
      "execution_count": 60,
      "outputs": [
        {
          "output_type": "execute_result",
          "data": {
            "text/plain": [
              "14.058"
            ]
          },
          "metadata": {},
          "execution_count": 60
        }
      ]
    },
    {
      "cell_type": "code",
      "source": [
        "\"omeprazole \" * 3"
      ],
      "metadata": {
        "colab": {
          "base_uri": "https://localhost:8080/",
          "height": 35
        },
        "id": "C_oZkskHhqee",
        "outputId": "bc4d9bf0-3f2b-46cf-dc62-e337ea4cf5fd"
      },
      "execution_count": 61,
      "outputs": [
        {
          "output_type": "execute_result",
          "data": {
            "text/plain": [
              "'omeprazole omeprazole omeprazole '"
            ],
            "application/vnd.google.colaboratory.intrinsic+json": {
              "type": "string"
            }
          },
          "metadata": {},
          "execution_count": 61
        }
      ]
    },
    {
      "cell_type": "code",
      "source": [
        "analgesics = [\"paracetamol\",\"ibuprofen\",\"diclofecac\"]\n",
        "analgesics * 3"
      ],
      "metadata": {
        "colab": {
          "base_uri": "https://localhost:8080/"
        },
        "id": "DA9LAxyqhv0h",
        "outputId": "8df33b53-1009-4395-93eb-62538b6a5dd1"
      },
      "execution_count": 62,
      "outputs": [
        {
          "output_type": "execute_result",
          "data": {
            "text/plain": [
              "['paracetamol',\n",
              " 'ibuprofen',\n",
              " 'diclofecac',\n",
              " 'paracetamol',\n",
              " 'ibuprofen',\n",
              " 'diclofecac',\n",
              " 'paracetamol',\n",
              " 'ibuprofen',\n",
              " 'diclofecac']"
            ]
          },
          "metadata": {},
          "execution_count": 62
        }
      ]
    },
    {
      "cell_type": "code",
      "source": [
        "dosage_strength_in_mg = [500, 200, 50] * 3\n",
        "dosage_strength_in_mg"
      ],
      "metadata": {
        "colab": {
          "base_uri": "https://localhost:8080/"
        },
        "id": "RDRf0fvciK33",
        "outputId": "e5f10b93-b75e-474d-e8e1-c305bd78b0e0"
      },
      "execution_count": 64,
      "outputs": [
        {
          "output_type": "execute_result",
          "data": {
            "text/plain": [
              "[500, 200, 50, 500, 200, 50, 500, 200, 50]"
            ]
          },
          "metadata": {},
          "execution_count": 64
        }
      ]
    },
    {
      "cell_type": "code",
      "source": [
        "5 ** 4"
      ],
      "metadata": {
        "colab": {
          "base_uri": "https://localhost:8080/"
        },
        "id": "pj5U-AuniXrJ",
        "outputId": "d1c64bdf-fc31-476d-de46-1b1f0809013d"
      },
      "execution_count": 65,
      "outputs": [
        {
          "output_type": "execute_result",
          "data": {
            "text/plain": [
              "625"
            ]
          },
          "metadata": {},
          "execution_count": 65
        }
      ]
    },
    {
      "cell_type": "code",
      "source": [
        "power_number = 5\n",
        "power_number ** 4"
      ],
      "metadata": {
        "colab": {
          "base_uri": "https://localhost:8080/"
        },
        "id": "si0-aUlsiggL",
        "outputId": "da227559-070c-40c7-ff99-34bea5823b62"
      },
      "execution_count": 66,
      "outputs": [
        {
          "output_type": "execute_result",
          "data": {
            "text/plain": [
              "625"
            ]
          },
          "metadata": {},
          "execution_count": 66
        }
      ]
    },
    {
      "cell_type": "code",
      "source": [
        "4.5 **5"
      ],
      "metadata": {
        "colab": {
          "base_uri": "https://localhost:8080/"
        },
        "id": "t7_MhFoPimVF",
        "outputId": "196d4386-fb11-4003-f2c0-628a6ab3d219"
      },
      "execution_count": 67,
      "outputs": [
        {
          "output_type": "execute_result",
          "data": {
            "text/plain": [
              "1845.28125"
            ]
          },
          "metadata": {},
          "execution_count": 67
        }
      ]
    },
    {
      "cell_type": "code",
      "source": [
        "100/5"
      ],
      "metadata": {
        "colab": {
          "base_uri": "https://localhost:8080/"
        },
        "id": "lNpmYS9dirWs",
        "outputId": "2a44b7a0-821d-4d29-cbea-f88958abb8bd"
      },
      "execution_count": 68,
      "outputs": [
        {
          "output_type": "execute_result",
          "data": {
            "text/plain": [
              "20.0"
            ]
          },
          "metadata": {},
          "execution_count": 68
        }
      ]
    },
    {
      "cell_type": "code",
      "source": [
        "value_1/value_2"
      ],
      "metadata": {
        "colab": {
          "base_uri": "https://localhost:8080/"
        },
        "id": "4GYdrbeiiufQ",
        "outputId": "b068fe21-2348-4b49-acb0-a188ab38828a"
      },
      "execution_count": 69,
      "outputs": [
        {
          "output_type": "execute_result",
          "data": {
            "text/plain": [
              "5.0"
            ]
          },
          "metadata": {},
          "execution_count": 69
        }
      ]
    },
    {
      "cell_type": "code",
      "source": [
        "1.5/2"
      ],
      "metadata": {
        "colab": {
          "base_uri": "https://localhost:8080/"
        },
        "id": "R4pDmFTYiyxS",
        "outputId": "4a8b0022-5b4b-4e49-a178-4417bd932da6"
      },
      "execution_count": 70,
      "outputs": [
        {
          "output_type": "execute_result",
          "data": {
            "text/plain": [
              "0.75"
            ]
          },
          "metadata": {},
          "execution_count": 70
        }
      ]
    },
    {
      "cell_type": "code",
      "source": [
        "100.5/2.5"
      ],
      "metadata": {
        "colab": {
          "base_uri": "https://localhost:8080/"
        },
        "id": "Gs1V6PFci1Is",
        "outputId": "696975a2-7b02-4671-c2df-4b4d63b95ee1"
      },
      "execution_count": 71,
      "outputs": [
        {
          "output_type": "execute_result",
          "data": {
            "text/plain": [
              "40.2"
            ]
          },
          "metadata": {},
          "execution_count": 71
        }
      ]
    },
    {
      "cell_type": "code",
      "source": [
        "5 == 5.0"
      ],
      "metadata": {
        "colab": {
          "base_uri": "https://localhost:8080/"
        },
        "id": "b2rqQJBli_WR",
        "outputId": "3f7d8d45-dfd8-4498-8fa5-649d6594ccbc"
      },
      "execution_count": 72,
      "outputs": [
        {
          "output_type": "execute_result",
          "data": {
            "text/plain": [
              "True"
            ]
          },
          "metadata": {},
          "execution_count": 72
        }
      ]
    },
    {
      "cell_type": "code",
      "source": [
        "\"500mg\" == \"500mg\""
      ],
      "metadata": {
        "colab": {
          "base_uri": "https://localhost:8080/"
        },
        "id": "9fXDHMWEjDC3",
        "outputId": "dbf7529e-a4d0-4220-adcd-04a950ddcf17"
      },
      "execution_count": 73,
      "outputs": [
        {
          "output_type": "execute_result",
          "data": {
            "text/plain": [
              "True"
            ]
          },
          "metadata": {},
          "execution_count": 73
        }
      ]
    },
    {
      "cell_type": "code",
      "source": [
        "5!=5.0"
      ],
      "metadata": {
        "colab": {
          "base_uri": "https://localhost:8080/"
        },
        "id": "rlOLk_v3jL3z",
        "outputId": "735f1e34-f639-485b-e716-c7eb974f89a1"
      },
      "execution_count": 74,
      "outputs": [
        {
          "output_type": "execute_result",
          "data": {
            "text/plain": [
              "False"
            ]
          },
          "metadata": {},
          "execution_count": 74
        }
      ]
    },
    {
      "cell_type": "code",
      "source": [
        "1000>500"
      ],
      "metadata": {
        "colab": {
          "base_uri": "https://localhost:8080/"
        },
        "id": "iFeQFUn5jP-I",
        "outputId": "f180d241-2bf9-4dd8-d4ef-d0b0cf90047a"
      },
      "execution_count": 75,
      "outputs": [
        {
          "output_type": "execute_result",
          "data": {
            "text/plain": [
              "True"
            ]
          },
          "metadata": {},
          "execution_count": 75
        }
      ]
    },
    {
      "cell_type": "code",
      "source": [
        "0.001 >= 2"
      ],
      "metadata": {
        "colab": {
          "base_uri": "https://localhost:8080/"
        },
        "id": "7bYTdCYzjcHT",
        "outputId": "6d7f22ba-0092-4638-ad06-a6ae41a1f8de"
      },
      "execution_count": 76,
      "outputs": [
        {
          "output_type": "execute_result",
          "data": {
            "text/plain": [
              "False"
            ]
          },
          "metadata": {},
          "execution_count": 76
        }
      ]
    },
    {
      "cell_type": "markdown",
      "source": [],
      "metadata": {
        "id": "UNWjgry7jkRL"
      }
    },
    {
      "cell_type": "code",
      "source": [
        "5 < (100/20)"
      ],
      "metadata": {
        "colab": {
          "base_uri": "https://localhost:8080/"
        },
        "id": "BSmmW29Njh19",
        "outputId": "5b81020e-e863-44b2-e494-43fb4e52a478"
      },
      "execution_count": 77,
      "outputs": [
        {
          "output_type": "execute_result",
          "data": {
            "text/plain": [
              "False"
            ]
          },
          "metadata": {},
          "execution_count": 77
        }
      ]
    },
    {
      "cell_type": "code",
      "source": [
        "200 + 100"
      ],
      "metadata": {
        "colab": {
          "base_uri": "https://localhost:8080/"
        },
        "id": "5KjU-eoHjrr_",
        "outputId": "0c5c4e1e-e322-46ba-e7c2-527f0b355801"
      },
      "execution_count": 78,
      "outputs": [
        {
          "output_type": "execute_result",
          "data": {
            "text/plain": [
              "300"
            ]
          },
          "metadata": {},
          "execution_count": 78
        }
      ]
    },
    {
      "cell_type": "markdown",
      "source": [
        "FUNCTIONS"
      ],
      "metadata": {
        "id": "ER7BkoWflLnr"
      }
    },
    {
      "cell_type": "code",
      "source": [
        "def addition(value_1,value_2):\n",
        "    result = value_1 + value_2\n",
        "    return result"
      ],
      "metadata": {
        "id": "UBH4RDt4lHW8"
      },
      "execution_count": 80,
      "outputs": []
    },
    {
      "cell_type": "code",
      "source": [
        "addition(200,100)"
      ],
      "metadata": {
        "colab": {
          "base_uri": "https://localhost:8080/"
        },
        "id": "bZZPKOUxlgje",
        "outputId": "0bf7bfef-b627-4aaa-b6bd-b949a201f0d7"
      },
      "execution_count": 81,
      "outputs": [
        {
          "output_type": "execute_result",
          "data": {
            "text/plain": [
              "300"
            ]
          },
          "metadata": {},
          "execution_count": 81
        }
      ]
    },
    {
      "cell_type": "code",
      "source": [
        "addition(\"hydro\", \"chloro\")"
      ],
      "metadata": {
        "colab": {
          "base_uri": "https://localhost:8080/",
          "height": 35
        },
        "id": "-wSinU29lkmO",
        "outputId": "98e01f8b-f915-4fbe-e9c8-7c6b6f97b34f"
      },
      "execution_count": 83,
      "outputs": [
        {
          "output_type": "execute_result",
          "data": {
            "text/plain": [
              "'hydrochloro'"
            ],
            "application/vnd.google.colaboratory.intrinsic+json": {
              "type": "string"
            }
          },
          "metadata": {},
          "execution_count": 83
        }
      ]
    },
    {
      "cell_type": "code",
      "source": [
        "def bienvenue():\n",
        "    print(\"welcome to our lab\")"
      ],
      "metadata": {
        "id": "pptYKFRFlywy"
      },
      "execution_count": 84,
      "outputs": []
    },
    {
      "cell_type": "code",
      "source": [
        "bienvenue()"
      ],
      "metadata": {
        "colab": {
          "base_uri": "https://localhost:8080/"
        },
        "id": "xwdAB42Tl94U",
        "outputId": "b921caf4-57da-472b-d567-fd59c86e626f"
      },
      "execution_count": 85,
      "outputs": [
        {
          "output_type": "stream",
          "name": "stdout",
          "text": [
            "welcome to our lab\n"
          ]
        }
      ]
    },
    {
      "cell_type": "markdown",
      "source": [
        "CONDITIONS"
      ],
      "metadata": {
        "id": "r2KGzcqfmCd5"
      }
    },
    {
      "cell_type": "code",
      "source": [
        "quantity_of_omeprazole = 60\n",
        "\n",
        "if quantity_of_omeprazole > 40:\n",
        "    print(\"there is enough omeprazole to dispense\")\n",
        "else:\n",
        "    print(\"there is less than 40 omeprazole\")"
      ],
      "metadata": {
        "colab": {
          "base_uri": "https://localhost:8080/"
        },
        "id": "wwhR6ap0mE7x",
        "outputId": "61e47d68-4404-4f48-cefc-9c33b8c9febe"
      },
      "execution_count": 86,
      "outputs": [
        {
          "output_type": "stream",
          "name": "stdout",
          "text": [
            "there is enough omeprazole to dispense\n"
          ]
        }
      ]
    },
    {
      "cell_type": "code",
      "source": [
        "quantity_of_omeprazole = 39\n",
        "\n",
        "if quantity_of_omeprazole > 40:\n",
        "    print(\"there is enough omeprazole to dispense\")\n",
        "else:\n",
        "    print(\"there is less than 40 omeprazole\")"
      ],
      "metadata": {
        "colab": {
          "base_uri": "https://localhost:8080/"
        },
        "id": "iWckH9oCmmQ7",
        "outputId": "98b5db28-b6a9-447f-9e6d-ee9d0db63833"
      },
      "execution_count": 87,
      "outputs": [
        {
          "output_type": "stream",
          "name": "stdout",
          "text": [
            "there is less than 40 omeprazole\n"
          ]
        }
      ]
    },
    {
      "cell_type": "code",
      "source": [
        "quantity_of_omeprazole = 20\n",
        "\n",
        "if quantity_of_omeprazole > 40:\n",
        "    print(\"there is enough omeprazole to dispense\")\n",
        "elif quantity_of_omeprazole < 40:\n",
        "    print(\"there is less than 40 omeprazole\")"
      ],
      "metadata": {
        "colab": {
          "base_uri": "https://localhost:8080/"
        },
        "id": "hHWv3CnFmrmF",
        "outputId": "ae066419-d25c-4bb8-dc2d-6d21b8f6ba27"
      },
      "execution_count": 89,
      "outputs": [
        {
          "output_type": "stream",
          "name": "stdout",
          "text": [
            "there is less than 40 omeprazole\n"
          ]
        }
      ]
    },
    {
      "cell_type": "code",
      "source": [
        "analgesics = [\"paracetamol\",\"ibuprofen\",\"diclofecac\"]"
      ],
      "metadata": {
        "id": "sA5liOv6nFAU"
      },
      "execution_count": 90,
      "outputs": []
    },
    {
      "cell_type": "code",
      "source": [
        "for item in analgesics:\n",
        "    print(item)"
      ],
      "metadata": {
        "colab": {
          "base_uri": "https://localhost:8080/"
        },
        "id": "J69hecNAng1N",
        "outputId": "2a689d1e-5601-474d-cf3f-05cce018240a"
      },
      "execution_count": 91,
      "outputs": [
        {
          "output_type": "stream",
          "name": "stdout",
          "text": [
            "paracetamol\n",
            "ibuprofen\n",
            "diclofecac\n"
          ]
        }
      ]
    },
    {
      "cell_type": "code",
      "source": [
        "numbers = [10,20,30,40,50]"
      ],
      "metadata": {
        "id": "a9RW_DqPnoOF"
      },
      "execution_count": 92,
      "outputs": []
    },
    {
      "cell_type": "code",
      "source": [
        "double_number = []\n",
        "for number in numbers:\n",
        "    double_number.append(number*2)"
      ],
      "metadata": {
        "id": "7FWGYuSanvEZ"
      },
      "execution_count": 93,
      "outputs": []
    },
    {
      "cell_type": "code",
      "source": [
        "double_number"
      ],
      "metadata": {
        "colab": {
          "base_uri": "https://localhost:8080/"
        },
        "id": "yc5DK-CqoAgt",
        "outputId": "0cc55270-bfb3-4558-836f-ea86b87060dc"
      },
      "execution_count": 94,
      "outputs": [
        {
          "output_type": "execute_result",
          "data": {
            "text/plain": [
              "[20, 40, 60, 80, 100]"
            ]
          },
          "metadata": {},
          "execution_count": 94
        }
      ]
    },
    {
      "cell_type": "code",
      "source": [
        "for item in double_number:\n",
        "    if item == 60:\n",
        "        continue\n",
        "    print(item)"
      ],
      "metadata": {
        "colab": {
          "base_uri": "https://localhost:8080/"
        },
        "id": "LiP29xdeoI4b",
        "outputId": "6ac0f2c9-aba7-4ff6-e587-ffc8ea6b9906"
      },
      "execution_count": 95,
      "outputs": [
        {
          "output_type": "stream",
          "name": "stdout",
          "text": [
            "20\n",
            "40\n",
            "80\n",
            "100\n"
          ]
        }
      ]
    },
    {
      "cell_type": "code",
      "source": [
        "string_value = \"omeprazole\"\n",
        "for character in string_value:\n",
        "    print(character)"
      ],
      "metadata": {
        "colab": {
          "base_uri": "https://localhost:8080/"
        },
        "id": "qOmpmQ2NoaB0",
        "outputId": "f5d30ec0-e236-4700-aa4f-5ca4ba40d49c"
      },
      "execution_count": 96,
      "outputs": [
        {
          "output_type": "stream",
          "name": "stdout",
          "text": [
            "o\n",
            "m\n",
            "e\n",
            "p\n",
            "r\n",
            "a\n",
            "z\n",
            "o\n",
            "l\n",
            "e\n"
          ]
        }
      ]
    },
    {
      "cell_type": "code",
      "source": [
        "len(\"omeprazole\")"
      ],
      "metadata": {
        "colab": {
          "base_uri": "https://localhost:8080/"
        },
        "id": "JA3S2GOWomMG",
        "outputId": "4432e91a-ff3a-44f2-81d0-0eb7ed70d731"
      },
      "execution_count": 97,
      "outputs": [
        {
          "output_type": "execute_result",
          "data": {
            "text/plain": [
              "10"
            ]
          },
          "metadata": {},
          "execution_count": 97
        }
      ]
    },
    {
      "cell_type": "code",
      "source": [
        "len([\"omeprazole\",\"rabeprazole\",\"esomeprazole\"])"
      ],
      "metadata": {
        "colab": {
          "base_uri": "https://localhost:8080/"
        },
        "id": "RnGyiiXZtcDa",
        "outputId": "8eee4e6c-273e-4837-eb3e-a38442fd5178"
      },
      "execution_count": 98,
      "outputs": [
        {
          "output_type": "execute_result",
          "data": {
            "text/plain": [
              "3"
            ]
          },
          "metadata": {},
          "execution_count": 98
        }
      ]
    },
    {
      "cell_type": "code",
      "source": [
        "name_of_ppi = [\"omeprazole\",\"rabeprazole\",\"esomeprazole\"]"
      ],
      "metadata": {
        "id": "ZYo8PAkAtpwl"
      },
      "execution_count": 99,
      "outputs": []
    },
    {
      "cell_type": "code",
      "source": [
        "name_of_ppi.count(\"omeprazole\")"
      ],
      "metadata": {
        "colab": {
          "base_uri": "https://localhost:8080/"
        },
        "id": "BWwEZx75tzza",
        "outputId": "9db1d3bc-81f8-4b82-b80c-df8d8d113719"
      },
      "execution_count": 100,
      "outputs": [
        {
          "output_type": "execute_result",
          "data": {
            "text/plain": [
              "1"
            ]
          },
          "metadata": {},
          "execution_count": 100
        }
      ]
    },
    {
      "cell_type": "code",
      "source": [
        "ibuprofen_strength_in_mg = [200,300,499,500]"
      ],
      "metadata": {
        "id": "nXAmYLYGt-y9"
      },
      "execution_count": 101,
      "outputs": []
    },
    {
      "cell_type": "code",
      "source": [
        "min(ibuprofen_strength_in_mg)"
      ],
      "metadata": {
        "colab": {
          "base_uri": "https://localhost:8080/"
        },
        "id": "2X0XnWI7uHPy",
        "outputId": "592a1aa4-51f8-438b-bd1c-3536c738bd8a"
      },
      "execution_count": 102,
      "outputs": [
        {
          "output_type": "execute_result",
          "data": {
            "text/plain": [
              "200"
            ]
          },
          "metadata": {},
          "execution_count": 102
        }
      ]
    },
    {
      "cell_type": "code",
      "source": [
        "number_of_iscilations = list(range(0,11))\n",
        "number_of_iscilations"
      ],
      "metadata": {
        "colab": {
          "base_uri": "https://localhost:8080/"
        },
        "id": "P4XcUxEouNIh",
        "outputId": "541ac9e8-b104-4fd4-9d42-b5176b007739"
      },
      "execution_count": 103,
      "outputs": [
        {
          "output_type": "execute_result",
          "data": {
            "text/plain": [
              "[0, 1, 2, 3, 4, 5, 6, 7, 8, 9, 10]"
            ]
          },
          "metadata": {},
          "execution_count": 103
        }
      ]
    },
    {
      "cell_type": "code",
      "source": [
        "range(500,511)"
      ],
      "metadata": {
        "colab": {
          "base_uri": "https://localhost:8080/"
        },
        "id": "OG0a4O7huZPm",
        "outputId": "29ac9848-a39c-45f9-9fc7-a1b268d966fe"
      },
      "execution_count": 104,
      "outputs": [
        {
          "output_type": "execute_result",
          "data": {
            "text/plain": [
              "range(500, 511)"
            ]
          },
          "metadata": {},
          "execution_count": 104
        }
      ]
    },
    {
      "cell_type": "code",
      "source": [
        "for number in range(500,511):\n",
        "    print(number)"
      ],
      "metadata": {
        "colab": {
          "base_uri": "https://localhost:8080/"
        },
        "id": "sQKAriy9ugQq",
        "outputId": "77a2f102-3945-4ad2-d1d2-376cee8f6d06"
      },
      "execution_count": 106,
      "outputs": [
        {
          "output_type": "stream",
          "name": "stdout",
          "text": [
            "500\n",
            "501\n",
            "502\n",
            "503\n",
            "504\n",
            "505\n",
            "506\n",
            "507\n",
            "508\n",
            "509\n",
            "510\n"
          ]
        }
      ]
    },
    {
      "cell_type": "code",
      "source": [
        "list(range(500,511))"
      ],
      "metadata": {
        "colab": {
          "base_uri": "https://localhost:8080/"
        },
        "id": "GensAobQvAOa",
        "outputId": "1ccde43a-354d-474a-ad8c-316141111683"
      },
      "execution_count": 107,
      "outputs": [
        {
          "output_type": "execute_result",
          "data": {
            "text/plain": [
              "[500, 501, 502, 503, 504, 505, 506, 507, 508, 509, 510]"
            ]
          },
          "metadata": {},
          "execution_count": 107
        }
      ]
    },
    {
      "cell_type": "code",
      "source": [
        "even_number_of_oscillation = list(range(2,30,2))\n",
        "even_number_of_oscillation"
      ],
      "metadata": {
        "colab": {
          "base_uri": "https://localhost:8080/"
        },
        "id": "2bdK6e6MvGJd",
        "outputId": "e28afd0c-3d7a-4605-9158-8db8b19a83aa"
      },
      "execution_count": 108,
      "outputs": [
        {
          "output_type": "execute_result",
          "data": {
            "text/plain": [
              "[2, 4, 6, 8, 10, 12, 14, 16, 18, 20, 22, 24, 26, 28]"
            ]
          },
          "metadata": {},
          "execution_count": 108
        }
      ]
    },
    {
      "cell_type": "code",
      "source": [
        "even_number_of_oscillation = list(range(1,30,2))\n",
        "even_number_of_oscillation"
      ],
      "metadata": {
        "colab": {
          "base_uri": "https://localhost:8080/"
        },
        "id": "8ecdSywEvmqs",
        "outputId": "56dfd641-c7ca-4a11-e93e-65d2def4d606"
      },
      "execution_count": 109,
      "outputs": [
        {
          "output_type": "execute_result",
          "data": {
            "text/plain": [
              "[1, 3, 5, 7, 9, 11, 13, 15, 17, 19, 21, 23, 25, 27, 29]"
            ]
          },
          "metadata": {},
          "execution_count": 109
        }
      ]
    },
    {
      "cell_type": "code",
      "source": [
        "reverse_number_of_oscillation = list(range(10,0,-1))\n",
        "reverse_number_of_oscillation"
      ],
      "metadata": {
        "colab": {
          "base_uri": "https://localhost:8080/"
        },
        "id": "VQpmK6zqvx3c",
        "outputId": "90184970-077d-483c-baa2-1e3a17ff4967"
      },
      "execution_count": 110,
      "outputs": [
        {
          "output_type": "execute_result",
          "data": {
            "text/plain": [
              "[10, 9, 8, 7, 6, 5, 4, 3, 2, 1]"
            ]
          },
          "metadata": {},
          "execution_count": 110
        }
      ]
    },
    {
      "cell_type": "code",
      "source": [
        "sample_statement = \"soy linda\""
      ],
      "metadata": {
        "id": "nkkEP5h6wAP5"
      },
      "execution_count": 111,
      "outputs": []
    },
    {
      "cell_type": "code",
      "source": [
        "sample_statement.upper()"
      ],
      "metadata": {
        "colab": {
          "base_uri": "https://localhost:8080/",
          "height": 35
        },
        "id": "nk2e_qgEwP9k",
        "outputId": "0a727576-731a-4623-fd37-e27f6e8faabf"
      },
      "execution_count": 112,
      "outputs": [
        {
          "output_type": "execute_result",
          "data": {
            "text/plain": [
              "'SOY LINDA'"
            ],
            "application/vnd.google.colaboratory.intrinsic+json": {
              "type": "string"
            }
          },
          "metadata": {},
          "execution_count": 112
        }
      ]
    },
    {
      "cell_type": "code",
      "source": [
        "sample_statement.lower()"
      ],
      "metadata": {
        "colab": {
          "base_uri": "https://localhost:8080/",
          "height": 35
        },
        "id": "9wfVZY76wVSF",
        "outputId": "5f54ee06-cfaa-4f07-d246-811b62428230"
      },
      "execution_count": 115,
      "outputs": [
        {
          "output_type": "execute_result",
          "data": {
            "text/plain": [
              "'soy linda'"
            ],
            "application/vnd.google.colaboratory.intrinsic+json": {
              "type": "string"
            }
          },
          "metadata": {},
          "execution_count": 115
        }
      ]
    },
    {
      "cell_type": "code",
      "source": [
        "sample_statement.capitalize()"
      ],
      "metadata": {
        "colab": {
          "base_uri": "https://localhost:8080/",
          "height": 35
        },
        "id": "lY_ZMN7iwfzS",
        "outputId": "7aa2d5e0-a435-403b-a0fe-1c60ed5a9565"
      },
      "execution_count": 116,
      "outputs": [
        {
          "output_type": "execute_result",
          "data": {
            "text/plain": [
              "'Soy linda'"
            ],
            "application/vnd.google.colaboratory.intrinsic+json": {
              "type": "string"
            }
          },
          "metadata": {},
          "execution_count": 116
        }
      ]
    },
    {
      "cell_type": "code",
      "source": [
        "sample_statement.title()"
      ],
      "metadata": {
        "colab": {
          "base_uri": "https://localhost:8080/",
          "height": 35
        },
        "id": "xtWCM2HTwlu3",
        "outputId": "44e3dee0-d63e-47ee-84d1-e3e9c92679c3"
      },
      "execution_count": 117,
      "outputs": [
        {
          "output_type": "execute_result",
          "data": {
            "text/plain": [
              "'Soy Linda'"
            ],
            "application/vnd.google.colaboratory.intrinsic+json": {
              "type": "string"
            }
          },
          "metadata": {},
          "execution_count": 117
        }
      ]
    },
    {
      "cell_type": "code",
      "source": [
        "laboratory_apparatus = \"Some of the apparatus found in the lab are test tube, glass, funnel\""
      ],
      "metadata": {
        "id": "cp-yWNevwttH"
      },
      "execution_count": 118,
      "outputs": []
    },
    {
      "cell_type": "code",
      "source": [
        "laboratory_apparatus.split()"
      ],
      "metadata": {
        "colab": {
          "base_uri": "https://localhost:8080/"
        },
        "id": "7eQtJfLEw8su",
        "outputId": "bccd75a9-4bbc-478e-8e03-584e0d7ad059"
      },
      "execution_count": 119,
      "outputs": [
        {
          "output_type": "execute_result",
          "data": {
            "text/plain": [
              "['Some',\n",
              " 'of',\n",
              " 'the',\n",
              " 'apparatus',\n",
              " 'found',\n",
              " 'in',\n",
              " 'the',\n",
              " 'lab',\n",
              " 'are',\n",
              " 'test',\n",
              " 'tube,',\n",
              " 'glass,',\n",
              " 'funnel']"
            ]
          },
          "metadata": {},
          "execution_count": 119
        }
      ]
    },
    {
      "cell_type": "code",
      "source": [
        "laboratory_apparatus.split(\",\")"
      ],
      "metadata": {
        "colab": {
          "base_uri": "https://localhost:8080/"
        },
        "id": "SUD6WMkCxZYU",
        "outputId": "fac7912b-5a47-4b77-cd87-69a9d03046dd"
      },
      "execution_count": 120,
      "outputs": [
        {
          "output_type": "execute_result",
          "data": {
            "text/plain": [
              "['Some of the apparatus found in the lab are test tube', ' glass', ' funnel']"
            ]
          },
          "metadata": {},
          "execution_count": 120
        }
      ]
    },
    {
      "cell_type": "code",
      "source": [
        "list_of_apparatus = [\"test tube\",\"glass\",\"funnel\"]"
      ],
      "metadata": {
        "id": "-gFiYaoRxg8Y"
      },
      "execution_count": 121,
      "outputs": []
    },
    {
      "cell_type": "code",
      "source": [
        "\"\".join(list_of_apparatus)"
      ],
      "metadata": {
        "colab": {
          "base_uri": "https://localhost:8080/",
          "height": 35
        },
        "id": "_aEoJ25nxvDY",
        "outputId": "395fc569-c4d1-46e9-8aa8-ae56f0dcb56d"
      },
      "execution_count": 122,
      "outputs": [
        {
          "output_type": "execute_result",
          "data": {
            "text/plain": [
              "'test tubeglassfunnel'"
            ],
            "application/vnd.google.colaboratory.intrinsic+json": {
              "type": "string"
            }
          },
          "metadata": {},
          "execution_count": 122
        }
      ]
    },
    {
      "cell_type": "code",
      "source": [
        "\",\".join(list_of_apparatus)"
      ],
      "metadata": {
        "colab": {
          "base_uri": "https://localhost:8080/",
          "height": 35
        },
        "id": "ulUd9QBkx6oJ",
        "outputId": "754506b5-c72e-4fb1-f423-d6a8958ca91b"
      },
      "execution_count": 123,
      "outputs": [
        {
          "output_type": "execute_result",
          "data": {
            "text/plain": [
              "'test tube,glass,funnel'"
            ],
            "application/vnd.google.colaboratory.intrinsic+json": {
              "type": "string"
            }
          },
          "metadata": {},
          "execution_count": 123
        }
      ]
    },
    {
      "cell_type": "code",
      "source": [
        "sample_statement = \"how to make an emulsion\""
      ],
      "metadata": {
        "id": "eoIrPTMoyBtP"
      },
      "execution_count": 124,
      "outputs": []
    },
    {
      "cell_type": "code",
      "source": [
        "sample_statement.strip(\",\")"
      ],
      "metadata": {
        "colab": {
          "base_uri": "https://localhost:8080/",
          "height": 35
        },
        "id": "2uCBNaehyJ4r",
        "outputId": "7558cc67-ac90-497e-91d3-ff7521274173"
      },
      "execution_count": 126,
      "outputs": [
        {
          "output_type": "execute_result",
          "data": {
            "text/plain": [
              "'how to make an emulsion'"
            ],
            "application/vnd.google.colaboratory.intrinsic+json": {
              "type": "string"
            }
          },
          "metadata": {},
          "execution_count": 126
        }
      ]
    },
    {
      "cell_type": "code",
      "source": [
        "sample_statement.strip()"
      ],
      "metadata": {
        "colab": {
          "base_uri": "https://localhost:8080/",
          "height": 35
        },
        "id": "oHmXuGChyUmp",
        "outputId": "b82c04ac-5a67-43d2-f5dd-1d9540e67e5a"
      },
      "execution_count": 127,
      "outputs": [
        {
          "output_type": "execute_result",
          "data": {
            "text/plain": [
              "'how to make an emulsion'"
            ],
            "application/vnd.google.colaboratory.intrinsic+json": {
              "type": "string"
            }
          },
          "metadata": {},
          "execution_count": 127
        }
      ]
    },
    {
      "cell_type": "code",
      "source": [
        "sample_statement.replace(\",\",\",\")"
      ],
      "metadata": {
        "colab": {
          "base_uri": "https://localhost:8080/",
          "height": 35
        },
        "id": "D8fjCqgvycKn",
        "outputId": "da7d84db-5ffd-4539-fb85-8b45c9dd9ffe"
      },
      "execution_count": 128,
      "outputs": [
        {
          "output_type": "execute_result",
          "data": {
            "text/plain": [
              "'how to make an emulsion'"
            ],
            "application/vnd.google.colaboratory.intrinsic+json": {
              "type": "string"
            }
          },
          "metadata": {},
          "execution_count": 128
        }
      ]
    },
    {
      "cell_type": "code",
      "source": [
        "list_of_analgesics = [\"paracetamol\", \"ibuprofen\",\"tramadol\"]\n",
        "list_of_dosage_strength_in_mg = [500,50,200,50]"
      ],
      "metadata": {
        "id": "ATC_YaZtyjOj"
      },
      "execution_count": 129,
      "outputs": []
    },
    {
      "cell_type": "code",
      "source": [
        "zip(list_of_analgesics,list_of_dosage_strength_in_mg)"
      ],
      "metadata": {
        "colab": {
          "base_uri": "https://localhost:8080/"
        },
        "id": "BEkRYeLsy8DI",
        "outputId": "9877c6cf-5558-4c62-e6a8-760fcaca7cbe"
      },
      "execution_count": 130,
      "outputs": [
        {
          "output_type": "execute_result",
          "data": {
            "text/plain": [
              "<zip at 0x7982786f24c0>"
            ]
          },
          "metadata": {},
          "execution_count": 130
        }
      ]
    },
    {
      "cell_type": "code",
      "source": [
        "list(zip(list_of_analgesics,list_of_dosage_strength_in_mg))"
      ],
      "metadata": {
        "colab": {
          "base_uri": "https://localhost:8080/"
        },
        "id": "9jI8eQ8VzGYL",
        "outputId": "af9826c0-7aa7-4752-d628-4496aed6fcaa"
      },
      "execution_count": 131,
      "outputs": [
        {
          "output_type": "execute_result",
          "data": {
            "text/plain": [
              "[('paracetamol', 500), ('ibuprofen', 50), ('tramadol', 200)]"
            ]
          },
          "metadata": {},
          "execution_count": 131
        }
      ]
    },
    {
      "cell_type": "code",
      "source": [
        "height_of_children_in_mts = [1.20,1.25,1.30,1.35,1.50]"
      ],
      "metadata": {
        "id": "-zfJRAQVzQDf"
      },
      "execution_count": 140,
      "outputs": []
    },
    {
      "cell_type": "code",
      "source": [
        "def square(number):\n",
        "    return number ** 2"
      ],
      "metadata": {
        "id": "D5OJc6LCzk2V"
      },
      "execution_count": 141,
      "outputs": []
    },
    {
      "cell_type": "code",
      "source": [
        "square_of_height_of_children_in_mts = list(map(square,height_of_children_in_mts))\n",
        "square_of_height_of_children_in_mts"
      ],
      "metadata": {
        "colab": {
          "base_uri": "https://localhost:8080/"
        },
        "id": "Sum2ul-23T9S",
        "outputId": "c7c70e7d-e2eb-42c3-89bd-9454986624a7"
      },
      "execution_count": 142,
      "outputs": [
        {
          "output_type": "execute_result",
          "data": {
            "text/plain": [
              "[1.44, 1.5625, 1.6900000000000002, 1.8225000000000002, 2.25]"
            ]
          },
          "metadata": {},
          "execution_count": 142
        }
      ]
    },
    {
      "cell_type": "code",
      "source": [
        "list(map(lambda x: x**2, height_of_children_in_mts))"
      ],
      "metadata": {
        "colab": {
          "base_uri": "https://localhost:8080/"
        },
        "id": "5yKopjA34qbk",
        "outputId": "4aa50043-5ad8-466c-e8a2-1554c802b0b2"
      },
      "execution_count": 143,
      "outputs": [
        {
          "output_type": "execute_result",
          "data": {
            "text/plain": [
              "[1.44, 1.5625, 1.6900000000000002, 1.8225000000000002, 2.25]"
            ]
          },
          "metadata": {},
          "execution_count": 143
        }
      ]
    },
    {
      "cell_type": "code",
      "source": [
        "\"laboratory\"[0:3]"
      ],
      "metadata": {
        "colab": {
          "base_uri": "https://localhost:8080/",
          "height": 35
        },
        "id": "zwsEiM3i43XD",
        "outputId": "4621dca4-43a0-43f2-e960-b175c10ad51b"
      },
      "execution_count": 144,
      "outputs": [
        {
          "output_type": "execute_result",
          "data": {
            "text/plain": [
              "'lab'"
            ],
            "application/vnd.google.colaboratory.intrinsic+json": {
              "type": "string"
            }
          },
          "metadata": {},
          "execution_count": 144
        }
      ]
    },
    {
      "cell_type": "code",
      "source": [
        "lab_apparatus = [\"tube\", \"glass\", \"funnel\"]"
      ],
      "metadata": {
        "id": "KoEc9l6W4-jB"
      },
      "execution_count": 147,
      "outputs": []
    },
    {
      "cell_type": "code",
      "source": [
        "lab_apparatus[0:2]"
      ],
      "metadata": {
        "colab": {
          "base_uri": "https://localhost:8080/"
        },
        "id": "O3XIjIQK5RNa",
        "outputId": "bdea9c29-0baa-4cc2-9729-e5a067cf4459"
      },
      "execution_count": 148,
      "outputs": [
        {
          "output_type": "execute_result",
          "data": {
            "text/plain": [
              "['tube', 'glass']"
            ]
          },
          "metadata": {},
          "execution_count": 148
        }
      ]
    },
    {
      "cell_type": "code",
      "source": [
        "lab_apparatus[-1]"
      ],
      "metadata": {
        "colab": {
          "base_uri": "https://localhost:8080/",
          "height": 35
        },
        "id": "Yim3FBWJ5WnT",
        "outputId": "f58b1c7c-8a6f-49c3-d830-602ffdaec92e"
      },
      "execution_count": 149,
      "outputs": [
        {
          "output_type": "execute_result",
          "data": {
            "text/plain": [
              "'funnel'"
            ],
            "application/vnd.google.colaboratory.intrinsic+json": {
              "type": "string"
            }
          },
          "metadata": {},
          "execution_count": 149
        }
      ]
    },
    {
      "cell_type": "code",
      "source": [
        "lab_apparatus[-2]"
      ],
      "metadata": {
        "colab": {
          "base_uri": "https://localhost:8080/",
          "height": 35
        },
        "id": "9J4FjNz75aut",
        "outputId": "cefc17bd-0bc4-43e1-f0b7-a8aeeca14018"
      },
      "execution_count": 150,
      "outputs": [
        {
          "output_type": "execute_result",
          "data": {
            "text/plain": [
              "'glass'"
            ],
            "application/vnd.google.colaboratory.intrinsic+json": {
              "type": "string"
            }
          },
          "metadata": {},
          "execution_count": 150
        }
      ]
    },
    {
      "cell_type": "code",
      "source": [
        "name_of_medication =\"ibuprofen\"\n",
        "dosage_strength = 200"
      ],
      "metadata": {
        "id": "4J_1BYgS5i3G"
      },
      "execution_count": 151,
      "outputs": []
    },
    {
      "cell_type": "code",
      "source": [
        "formatted_sentence = \"Take {} {}mg every 12 hours with a meal\".format(name_of_medication,dosage_strength)\n",
        "formatted_sentence"
      ],
      "metadata": {
        "colab": {
          "base_uri": "https://localhost:8080/",
          "height": 35
        },
        "id": "-VltoR5A54c9",
        "outputId": "b568af0f-7c8b-4af7-eea8-9e2b80d53d9a"
      },
      "execution_count": 155,
      "outputs": [
        {
          "output_type": "execute_result",
          "data": {
            "text/plain": [
              "'Take ibuprofen 200mg every 12 hours with a meal'"
            ],
            "application/vnd.google.colaboratory.intrinsic+json": {
              "type": "string"
            }
          },
          "metadata": {},
          "execution_count": 155
        }
      ]
    },
    {
      "cell_type": "markdown",
      "source": [
        "DOCUMENTATION"
      ],
      "metadata": {
        "id": "Qwz25JCq80Fq"
      }
    },
    {
      "cell_type": "code",
      "source": [
        "total_quantity_dispensed = 6*7\n",
        "#total quantity of medication taken two tablets twice daily for week use"
      ],
      "metadata": {
        "id": "ZNPCLmr78ych"
      },
      "execution_count": null,
      "outputs": []
    },
    {
      "cell_type": "code",
      "source": [
        "import pandas"
      ],
      "metadata": {
        "id": "YnNOb5vE9edq"
      },
      "execution_count": 156,
      "outputs": []
    },
    {
      "cell_type": "code",
      "source": [
        "pandas.__doc__\n",
        "#use double underscore to get details"
      ],
      "metadata": {
        "colab": {
          "base_uri": "https://localhost:8080/",
          "height": 105
        },
        "id": "m4JE2aA-9hhG",
        "outputId": "144bd040-c5bb-46f5-b632-637f9026626e"
      },
      "execution_count": 160,
      "outputs": [
        {
          "output_type": "execute_result",
          "data": {
            "text/plain": [
              "'\\npandas - a powerful data analysis and manipulation library for Python\\n=====================================================================\\n\\n**pandas** is a Python package providing fast, flexible, and expressive data\\nstructures designed to make working with \"relational\" or \"labeled\" data both\\neasy and intuitive. It aims to be the fundamental high-level building block for\\ndoing practical, **real world** data analysis in Python. Additionally, it has\\nthe broader goal of becoming **the most powerful and flexible open source data\\nanalysis / manipulation tool available in any language**. It is already well on\\nits way toward this goal.\\n\\nMain Features\\n-------------\\nHere are just a few of the things that pandas does well:\\n\\n  - Easy handling of missing data in floating point as well as non-floating\\n    point data.\\n  - Size mutability: columns can be inserted and deleted from DataFrame and\\n    higher dimensional objects\\n  - Automatic and explicit data alignment: objects can be explicitly aligned\\n    to a set of labels, or the user can simply ignore the labels and let\\n    `Series`, `DataFrame`, etc. automatically align the data for you in\\n    computations.\\n  - Powerful, flexible group by functionality to perform split-apply-combine\\n    operations on data sets, for both aggregating and transforming data.\\n  - Make it easy to convert ragged, differently-indexed data in other Python\\n    and NumPy data structures into DataFrame objects.\\n  - Intelligent label-based slicing, fancy indexing, and subsetting of large\\n    data sets.\\n  - Intuitive merging and joining data sets.\\n  - Flexible reshaping and pivoting of data sets.\\n  - Hierarchical labeling of axes (possible to have multiple labels per tick).\\n  - Robust IO tools for loading data from flat files (CSV and delimited),\\n    Excel files, databases, and saving/loading data from the ultrafast HDF5\\n    format.\\n  - Time series-specific functionality: date range generation and frequency\\n    conversion, moving window statistics, date shifting and lagging.\\n'"
            ],
            "application/vnd.google.colaboratory.intrinsic+json": {
              "type": "string"
            }
          },
          "metadata": {},
          "execution_count": 160
        }
      ]
    },
    {
      "cell_type": "code",
      "source": [
        "help(pandas.read_csv)"
      ],
      "metadata": {
        "colab": {
          "base_uri": "https://localhost:8080/"
        },
        "id": "Lz4FPohU9x-B",
        "outputId": "d6f6397e-151e-4d48-91ef-11478c854de3"
      },
      "execution_count": 161,
      "outputs": [
        {
          "output_type": "stream",
          "name": "stdout",
          "text": [
            "Help on function read_csv in module pandas.io.parsers.readers:\n",
            "\n",
            "read_csv(filepath_or_buffer: 'FilePath | ReadCsvBuffer[bytes] | ReadCsvBuffer[str]', *, sep: 'str | None | lib.NoDefault' = <no_default>, delimiter: 'str | None | lib.NoDefault' = None, header: \"int | Sequence[int] | None | Literal['infer']\" = 'infer', names: 'Sequence[Hashable] | None | lib.NoDefault' = <no_default>, index_col: 'IndexLabel | Literal[False] | None' = None, usecols=None, dtype: 'DtypeArg | None' = None, engine: 'CSVEngine | None' = None, converters=None, true_values=None, false_values=None, skipinitialspace: 'bool' = False, skiprows=None, skipfooter: 'int' = 0, nrows: 'int | None' = None, na_values=None, keep_default_na: 'bool' = True, na_filter: 'bool' = True, verbose: 'bool' = False, skip_blank_lines: 'bool' = True, parse_dates: 'bool | Sequence[Hashable] | None' = None, infer_datetime_format: 'bool | lib.NoDefault' = <no_default>, keep_date_col: 'bool' = False, date_parser=<no_default>, date_format: 'str | None' = None, dayfirst: 'bool' = False, cache_dates: 'bool' = True, iterator: 'bool' = False, chunksize: 'int | None' = None, compression: 'CompressionOptions' = 'infer', thousands: 'str | None' = None, decimal: 'str' = '.', lineterminator: 'str | None' = None, quotechar: 'str' = '\"', quoting: 'int' = 0, doublequote: 'bool' = True, escapechar: 'str | None' = None, comment: 'str | None' = None, encoding: 'str | None' = None, encoding_errors: 'str | None' = 'strict', dialect: 'str | csv.Dialect | None' = None, on_bad_lines: 'str' = 'error', delim_whitespace: 'bool' = False, low_memory=True, memory_map: 'bool' = False, float_precision: \"Literal['high', 'legacy'] | None\" = None, storage_options: 'StorageOptions' = None, dtype_backend: 'DtypeBackend | lib.NoDefault' = <no_default>) -> 'DataFrame | TextFileReader'\n",
            "    Read a comma-separated values (csv) file into DataFrame.\n",
            "    \n",
            "    Also supports optionally iterating or breaking of the file\n",
            "    into chunks.\n",
            "    \n",
            "    Additional help can be found in the online docs for\n",
            "    `IO Tools <https://pandas.pydata.org/pandas-docs/stable/user_guide/io.html>`_.\n",
            "    \n",
            "    Parameters\n",
            "    ----------\n",
            "    filepath_or_buffer : str, path object or file-like object\n",
            "        Any valid string path is acceptable. The string could be a URL. Valid\n",
            "        URL schemes include http, ftp, s3, gs, and file. For file URLs, a host is\n",
            "        expected. A local file could be: file://localhost/path/to/table.csv.\n",
            "    \n",
            "        If you want to pass in a path object, pandas accepts any ``os.PathLike``.\n",
            "    \n",
            "        By file-like object, we refer to objects with a ``read()`` method, such as\n",
            "        a file handle (e.g. via builtin ``open`` function) or ``StringIO``.\n",
            "    sep : str, default ','\n",
            "        Delimiter to use. If sep is None, the C engine cannot automatically detect\n",
            "        the separator, but the Python parsing engine can, meaning the latter will\n",
            "        be used and automatically detect the separator by Python's builtin sniffer\n",
            "        tool, ``csv.Sniffer``. In addition, separators longer than 1 character and\n",
            "        different from ``'\\s+'`` will be interpreted as regular expressions and\n",
            "        will also force the use of the Python parsing engine. Note that regex\n",
            "        delimiters are prone to ignoring quoted data. Regex example: ``'\\r\\t'``.\n",
            "    delimiter : str, default ``None``\n",
            "        Alias for sep.\n",
            "    header : int, list of int, None, default 'infer'\n",
            "        Row number(s) to use as the column names, and the start of the\n",
            "        data.  Default behavior is to infer the column names: if no names\n",
            "        are passed the behavior is identical to ``header=0`` and column\n",
            "        names are inferred from the first line of the file, if column\n",
            "        names are passed explicitly then the behavior is identical to\n",
            "        ``header=None``. Explicitly pass ``header=0`` to be able to\n",
            "        replace existing names. The header can be a list of integers that\n",
            "        specify row locations for a multi-index on the columns\n",
            "        e.g. [0,1,3]. Intervening rows that are not specified will be\n",
            "        skipped (e.g. 2 in this example is skipped). Note that this\n",
            "        parameter ignores commented lines and empty lines if\n",
            "        ``skip_blank_lines=True``, so ``header=0`` denotes the first line of\n",
            "        data rather than the first line of the file.\n",
            "    names : array-like, optional\n",
            "        List of column names to use. If the file contains a header row,\n",
            "        then you should explicitly pass ``header=0`` to override the column names.\n",
            "        Duplicates in this list are not allowed.\n",
            "    index_col : int, str, sequence of int / str, or False, optional, default ``None``\n",
            "      Column(s) to use as the row labels of the ``DataFrame``, either given as\n",
            "      string name or column index. If a sequence of int / str is given, a\n",
            "      MultiIndex is used.\n",
            "    \n",
            "      Note: ``index_col=False`` can be used to force pandas to *not* use the first\n",
            "      column as the index, e.g. when you have a malformed file with delimiters at\n",
            "      the end of each line.\n",
            "    usecols : list-like or callable, optional\n",
            "        Return a subset of the columns. If list-like, all elements must either\n",
            "        be positional (i.e. integer indices into the document columns) or strings\n",
            "        that correspond to column names provided either by the user in `names` or\n",
            "        inferred from the document header row(s). If ``names`` are given, the document\n",
            "        header row(s) are not taken into account. For example, a valid list-like\n",
            "        `usecols` parameter would be ``[0, 1, 2]`` or ``['foo', 'bar', 'baz']``.\n",
            "        Element order is ignored, so ``usecols=[0, 1]`` is the same as ``[1, 0]``.\n",
            "        To instantiate a DataFrame from ``data`` with element order preserved use\n",
            "        ``pd.read_csv(data, usecols=['foo', 'bar'])[['foo', 'bar']]`` for columns\n",
            "        in ``['foo', 'bar']`` order or\n",
            "        ``pd.read_csv(data, usecols=['foo', 'bar'])[['bar', 'foo']]``\n",
            "        for ``['bar', 'foo']`` order.\n",
            "    \n",
            "        If callable, the callable function will be evaluated against the column\n",
            "        names, returning names where the callable function evaluates to True. An\n",
            "        example of a valid callable argument would be ``lambda x: x.upper() in\n",
            "        ['AAA', 'BBB', 'DDD']``. Using this parameter results in much faster\n",
            "        parsing time and lower memory usage.\n",
            "    dtype : Type name or dict of column -> type, optional\n",
            "        Data type for data or columns. E.g. {'a': np.float64, 'b': np.int32,\n",
            "        'c': 'Int64'}\n",
            "        Use `str` or `object` together with suitable `na_values` settings\n",
            "        to preserve and not interpret dtype.\n",
            "        If converters are specified, they will be applied INSTEAD\n",
            "        of dtype conversion.\n",
            "    \n",
            "        .. versionadded:: 1.5.0\n",
            "    \n",
            "            Support for defaultdict was added. Specify a defaultdict as input where\n",
            "            the default determines the dtype of the columns which are not explicitly\n",
            "            listed.\n",
            "    engine : {'c', 'python', 'pyarrow'}, optional\n",
            "        Parser engine to use. The C and pyarrow engines are faster, while the python engine\n",
            "        is currently more feature-complete. Multithreading is currently only supported by\n",
            "        the pyarrow engine.\n",
            "    \n",
            "        .. versionadded:: 1.4.0\n",
            "    \n",
            "            The \"pyarrow\" engine was added as an *experimental* engine, and some features\n",
            "            are unsupported, or may not work correctly, with this engine.\n",
            "    converters : dict, optional\n",
            "        Dict of functions for converting values in certain columns. Keys can either\n",
            "        be integers or column labels.\n",
            "    true_values : list, optional\n",
            "        Values to consider as True in addition to case-insensitive variants of \"True\".\n",
            "    false_values : list, optional\n",
            "        Values to consider as False in addition to case-insensitive variants of \"False\".\n",
            "    skipinitialspace : bool, default False\n",
            "        Skip spaces after delimiter.\n",
            "    skiprows : list-like, int or callable, optional\n",
            "        Line numbers to skip (0-indexed) or number of lines to skip (int)\n",
            "        at the start of the file.\n",
            "    \n",
            "        If callable, the callable function will be evaluated against the row\n",
            "        indices, returning True if the row should be skipped and False otherwise.\n",
            "        An example of a valid callable argument would be ``lambda x: x in [0, 2]``.\n",
            "    skipfooter : int, default 0\n",
            "        Number of lines at bottom of file to skip (Unsupported with engine='c').\n",
            "    nrows : int, optional\n",
            "        Number of rows of file to read. Useful for reading pieces of large files.\n",
            "    na_values : scalar, str, list-like, or dict, optional\n",
            "        Additional strings to recognize as NA/NaN. If dict passed, specific\n",
            "        per-column NA values.  By default the following values are interpreted as\n",
            "        NaN: '', '#N/A', '#N/A N/A', '#NA', '-1.#IND', '-1.#QNAN', '-NaN', '-nan',\n",
            "        '1.#IND', '1.#QNAN', '<NA>', 'N/A', 'NA', 'NULL', 'NaN', 'None',\n",
            "        'n/a', 'nan', 'null'.\n",
            "    keep_default_na : bool, default True\n",
            "        Whether or not to include the default NaN values when parsing the data.\n",
            "        Depending on whether `na_values` is passed in, the behavior is as follows:\n",
            "    \n",
            "        * If `keep_default_na` is True, and `na_values` are specified, `na_values`\n",
            "          is appended to the default NaN values used for parsing.\n",
            "        * If `keep_default_na` is True, and `na_values` are not specified, only\n",
            "          the default NaN values are used for parsing.\n",
            "        * If `keep_default_na` is False, and `na_values` are specified, only\n",
            "          the NaN values specified `na_values` are used for parsing.\n",
            "        * If `keep_default_na` is False, and `na_values` are not specified, no\n",
            "          strings will be parsed as NaN.\n",
            "    \n",
            "        Note that if `na_filter` is passed in as False, the `keep_default_na` and\n",
            "        `na_values` parameters will be ignored.\n",
            "    na_filter : bool, default True\n",
            "        Detect missing value markers (empty strings and the value of na_values). In\n",
            "        data without any NAs, passing na_filter=False can improve the performance\n",
            "        of reading a large file.\n",
            "    verbose : bool, default False\n",
            "        Indicate number of NA values placed in non-numeric columns.\n",
            "    skip_blank_lines : bool, default True\n",
            "        If True, skip over blank lines rather than interpreting as NaN values.\n",
            "    parse_dates : bool or list of int or names or list of lists or dict, default False\n",
            "        The behavior is as follows:\n",
            "    \n",
            "        * boolean. If True -> try parsing the index.\n",
            "        * list of int or names. e.g. If [1, 2, 3] -> try parsing columns 1, 2, 3\n",
            "          each as a separate date column.\n",
            "        * list of lists. e.g.  If [[1, 3]] -> combine columns 1 and 3 and parse as\n",
            "          a single date column.\n",
            "        * dict, e.g. {'foo' : [1, 3]} -> parse columns 1, 3 as date and call\n",
            "          result 'foo'\n",
            "    \n",
            "        If a column or index cannot be represented as an array of datetimes,\n",
            "        say because of an unparsable value or a mixture of timezones, the column\n",
            "        or index will be returned unaltered as an object data type. For\n",
            "        non-standard datetime parsing, use ``pd.to_datetime`` after\n",
            "        ``pd.read_csv``.\n",
            "    \n",
            "        Note: A fast-path exists for iso8601-formatted dates.\n",
            "    infer_datetime_format : bool, default False\n",
            "        If True and `parse_dates` is enabled, pandas will attempt to infer the\n",
            "        format of the datetime strings in the columns, and if it can be inferred,\n",
            "        switch to a faster method of parsing them. In some cases this can increase\n",
            "        the parsing speed by 5-10x.\n",
            "    \n",
            "        .. deprecated:: 2.0.0\n",
            "            A strict version of this argument is now the default, passing it has no effect.\n",
            "    \n",
            "    keep_date_col : bool, default False\n",
            "        If True and `parse_dates` specifies combining multiple columns then\n",
            "        keep the original columns.\n",
            "    date_parser : function, optional\n",
            "        Function to use for converting a sequence of string columns to an array of\n",
            "        datetime instances. The default uses ``dateutil.parser.parser`` to do the\n",
            "        conversion. Pandas will try to call `date_parser` in three different ways,\n",
            "        advancing to the next if an exception occurs: 1) Pass one or more arrays\n",
            "        (as defined by `parse_dates`) as arguments; 2) concatenate (row-wise) the\n",
            "        string values from the columns defined by `parse_dates` into a single array\n",
            "        and pass that; and 3) call `date_parser` once for each row using one or\n",
            "        more strings (corresponding to the columns defined by `parse_dates`) as\n",
            "        arguments.\n",
            "    \n",
            "        .. deprecated:: 2.0.0\n",
            "           Use ``date_format`` instead, or read in as ``object`` and then apply\n",
            "           :func:`to_datetime` as-needed.\n",
            "    date_format : str or dict of column -> format, default ``None``\n",
            "       If used in conjunction with ``parse_dates``, will parse dates according to this\n",
            "       format. For anything more complex,\n",
            "       please read in as ``object`` and then apply :func:`to_datetime` as-needed.\n",
            "    \n",
            "       .. versionadded:: 2.0.0\n",
            "    dayfirst : bool, default False\n",
            "        DD/MM format dates, international and European format.\n",
            "    cache_dates : bool, default True\n",
            "        If True, use a cache of unique, converted dates to apply the datetime\n",
            "        conversion. May produce significant speed-up when parsing duplicate\n",
            "        date strings, especially ones with timezone offsets.\n",
            "    \n",
            "    iterator : bool, default False\n",
            "        Return TextFileReader object for iteration or getting chunks with\n",
            "        ``get_chunk()``.\n",
            "    \n",
            "        .. versionchanged:: 1.2\n",
            "    \n",
            "           ``TextFileReader`` is a context manager.\n",
            "    chunksize : int, optional\n",
            "        Return TextFileReader object for iteration.\n",
            "        See the `IO Tools docs\n",
            "        <https://pandas.pydata.org/pandas-docs/stable/io.html#io-chunking>`_\n",
            "        for more information on ``iterator`` and ``chunksize``.\n",
            "    \n",
            "        .. versionchanged:: 1.2\n",
            "    \n",
            "           ``TextFileReader`` is a context manager.\n",
            "    compression : str or dict, default 'infer'\n",
            "        For on-the-fly decompression of on-disk data. If 'infer' and 'filepath_or_buffer' is\n",
            "        path-like, then detect compression from the following extensions: '.gz',\n",
            "        '.bz2', '.zip', '.xz', '.zst', '.tar', '.tar.gz', '.tar.xz' or '.tar.bz2'\n",
            "        (otherwise no compression).\n",
            "        If using 'zip' or 'tar', the ZIP file must contain only one data file to be read in.\n",
            "        Set to ``None`` for no decompression.\n",
            "        Can also be a dict with key ``'method'`` set\n",
            "        to one of {``'zip'``, ``'gzip'``, ``'bz2'``, ``'zstd'``, ``'tar'``} and other\n",
            "        key-value pairs are forwarded to\n",
            "        ``zipfile.ZipFile``, ``gzip.GzipFile``,\n",
            "        ``bz2.BZ2File``, ``zstandard.ZstdDecompressor`` or\n",
            "        ``tarfile.TarFile``, respectively.\n",
            "        As an example, the following could be passed for Zstandard decompression using a\n",
            "        custom compression dictionary:\n",
            "        ``compression={'method': 'zstd', 'dict_data': my_compression_dict}``.\n",
            "    \n",
            "        .. versionadded:: 1.5.0\n",
            "            Added support for `.tar` files.\n",
            "    \n",
            "        .. versionchanged:: 1.4.0 Zstandard support.\n",
            "    \n",
            "    thousands : str, optional\n",
            "        Thousands separator.\n",
            "    decimal : str, default '.'\n",
            "        Character to recognize as decimal point (e.g. use ',' for European data).\n",
            "    lineterminator : str (length 1), optional\n",
            "        Character to break file into lines. Only valid with C parser.\n",
            "    quotechar : str (length 1), optional\n",
            "        The character used to denote the start and end of a quoted item. Quoted\n",
            "        items can include the delimiter and it will be ignored.\n",
            "    quoting : int or csv.QUOTE_* instance, default 0\n",
            "        Control field quoting behavior per ``csv.QUOTE_*`` constants. Use one of\n",
            "        QUOTE_MINIMAL (0), QUOTE_ALL (1), QUOTE_NONNUMERIC (2) or QUOTE_NONE (3).\n",
            "    doublequote : bool, default ``True``\n",
            "       When quotechar is specified and quoting is not ``QUOTE_NONE``, indicate\n",
            "       whether or not to interpret two consecutive quotechar elements INSIDE a\n",
            "       field as a single ``quotechar`` element.\n",
            "    escapechar : str (length 1), optional\n",
            "        One-character string used to escape other characters.\n",
            "    comment : str, optional\n",
            "        Indicates remainder of line should not be parsed. If found at the beginning\n",
            "        of a line, the line will be ignored altogether. This parameter must be a\n",
            "        single character. Like empty lines (as long as ``skip_blank_lines=True``),\n",
            "        fully commented lines are ignored by the parameter `header` but not by\n",
            "        `skiprows`. For example, if ``comment='#'``, parsing\n",
            "        ``#empty\\na,b,c\\n1,2,3`` with ``header=0`` will result in 'a,b,c' being\n",
            "        treated as the header.\n",
            "    encoding : str, optional, default \"utf-8\"\n",
            "        Encoding to use for UTF when reading/writing (ex. 'utf-8'). `List of Python\n",
            "        standard encodings\n",
            "        <https://docs.python.org/3/library/codecs.html#standard-encodings>`_ .\n",
            "    \n",
            "        .. versionchanged:: 1.2\n",
            "    \n",
            "           When ``encoding`` is ``None``, ``errors=\"replace\"`` is passed to\n",
            "           ``open()``. Otherwise, ``errors=\"strict\"`` is passed to ``open()``.\n",
            "           This behavior was previously only the case for ``engine=\"python\"``.\n",
            "    \n",
            "        .. versionchanged:: 1.3.0\n",
            "    \n",
            "           ``encoding_errors`` is a new argument. ``encoding`` has no longer an\n",
            "           influence on how encoding errors are handled.\n",
            "    \n",
            "    encoding_errors : str, optional, default \"strict\"\n",
            "        How encoding errors are treated. `List of possible values\n",
            "        <https://docs.python.org/3/library/codecs.html#error-handlers>`_ .\n",
            "    \n",
            "        .. versionadded:: 1.3.0\n",
            "    \n",
            "    dialect : str or csv.Dialect, optional\n",
            "        If provided, this parameter will override values (default or not) for the\n",
            "        following parameters: `delimiter`, `doublequote`, `escapechar`,\n",
            "        `skipinitialspace`, `quotechar`, and `quoting`. If it is necessary to\n",
            "        override values, a ParserWarning will be issued. See csv.Dialect\n",
            "        documentation for more details.\n",
            "    on_bad_lines : {'error', 'warn', 'skip'} or callable, default 'error'\n",
            "        Specifies what to do upon encountering a bad line (a line with too many fields).\n",
            "        Allowed values are :\n",
            "    \n",
            "            - 'error', raise an Exception when a bad line is encountered.\n",
            "            - 'warn', raise a warning when a bad line is encountered and skip that line.\n",
            "            - 'skip', skip bad lines without raising or warning when they are encountered.\n",
            "    \n",
            "        .. versionadded:: 1.3.0\n",
            "    \n",
            "        .. versionadded:: 1.4.0\n",
            "    \n",
            "            - callable, function with signature\n",
            "              ``(bad_line: list[str]) -> list[str] | None`` that will process a single\n",
            "              bad line. ``bad_line`` is a list of strings split by the ``sep``.\n",
            "              If the function returns ``None``, the bad line will be ignored.\n",
            "              If the function returns a new list of strings with more elements than\n",
            "              expected, a ``ParserWarning`` will be emitted while dropping extra elements.\n",
            "              Only supported when ``engine=\"python\"``\n",
            "    \n",
            "    delim_whitespace : bool, default False\n",
            "        Specifies whether or not whitespace (e.g. ``' '`` or ``'    '``) will be\n",
            "        used as the sep. Equivalent to setting ``sep='\\s+'``. If this option\n",
            "        is set to True, nothing should be passed in for the ``delimiter``\n",
            "        parameter.\n",
            "    low_memory : bool, default True\n",
            "        Internally process the file in chunks, resulting in lower memory use\n",
            "        while parsing, but possibly mixed type inference.  To ensure no mixed\n",
            "        types either set False, or specify the type with the `dtype` parameter.\n",
            "        Note that the entire file is read into a single DataFrame regardless,\n",
            "        use the `chunksize` or `iterator` parameter to return the data in chunks.\n",
            "        (Only valid with C parser).\n",
            "    memory_map : bool, default False\n",
            "        If a filepath is provided for `filepath_or_buffer`, map the file object\n",
            "        directly onto memory and access the data directly from there. Using this\n",
            "        option can improve performance because there is no longer any I/O overhead.\n",
            "    float_precision : str, optional\n",
            "        Specifies which converter the C engine should use for floating-point\n",
            "        values. The options are ``None`` or 'high' for the ordinary converter,\n",
            "        'legacy' for the original lower precision pandas converter, and\n",
            "        'round_trip' for the round-trip converter.\n",
            "    \n",
            "        .. versionchanged:: 1.2\n",
            "    \n",
            "    storage_options : dict, optional\n",
            "        Extra options that make sense for a particular storage connection, e.g.\n",
            "        host, port, username, password, etc. For HTTP(S) URLs the key-value pairs\n",
            "        are forwarded to ``urllib.request.Request`` as header options. For other\n",
            "        URLs (e.g. starting with \"s3://\", and \"gcs://\") the key-value pairs are\n",
            "        forwarded to ``fsspec.open``. Please see ``fsspec`` and ``urllib`` for more\n",
            "        details, and for more examples on storage options refer `here\n",
            "        <https://pandas.pydata.org/docs/user_guide/io.html?\n",
            "        highlight=storage_options#reading-writing-remote-files>`_.\n",
            "    \n",
            "        .. versionadded:: 1.2\n",
            "    \n",
            "    dtype_backend : {\"numpy_nullable\", \"pyarrow\"}, defaults to NumPy backed DataFrames\n",
            "        Which dtype_backend to use, e.g. whether a DataFrame should have NumPy\n",
            "        arrays, nullable dtypes are used for all dtypes that have a nullable\n",
            "        implementation when \"numpy_nullable\" is set, pyarrow is used for all\n",
            "        dtypes if \"pyarrow\" is set.\n",
            "    \n",
            "        The dtype_backends are still experimential.\n",
            "    \n",
            "        .. versionadded:: 2.0\n",
            "    \n",
            "    Returns\n",
            "    -------\n",
            "    DataFrame or TextFileReader\n",
            "        A comma-separated values (csv) file is returned as two-dimensional\n",
            "        data structure with labeled axes.\n",
            "    \n",
            "    See Also\n",
            "    --------\n",
            "    DataFrame.to_csv : Write DataFrame to a comma-separated values (csv) file.\n",
            "    read_csv : Read a comma-separated values (csv) file into DataFrame.\n",
            "    read_fwf : Read a table of fixed-width formatted lines into DataFrame.\n",
            "    \n",
            "    Examples\n",
            "    --------\n",
            "    >>> pd.read_csv('data.csv')  # doctest: +SKIP\n",
            "\n"
          ]
        }
      ]
    },
    {
      "cell_type": "code",
      "source": [
        "def total_quantity_dispensed(total_daily_quantity,number_of_days):\n",
        "    return total_daily_quantity * number_of_days"
      ],
      "metadata": {
        "id": "oMgcbTyR-hh4"
      },
      "execution_count": 163,
      "outputs": []
    },
    {
      "cell_type": "code",
      "source": [
        "total_quantity_dispensed(6,7)"
      ],
      "metadata": {
        "colab": {
          "base_uri": "https://localhost:8080/"
        },
        "id": "7YHLsvTj--KR",
        "outputId": "556ac2b9-a1d1-47d4-e541-1e1fd9f1a8dd"
      },
      "execution_count": 164,
      "outputs": [
        {
          "output_type": "execute_result",
          "data": {
            "text/plain": [
              "42"
            ]
          },
          "metadata": {},
          "execution_count": 164
        }
      ]
    },
    {
      "cell_type": "markdown",
      "source": [
        "ERRORS"
      ],
      "metadata": {
        "id": "9Pjslb-C_KN0"
      }
    },
    {
      "cell_type": "code",
      "source": [
        "OMEPRAZOLE"
      ],
      "metadata": {
        "colab": {
          "base_uri": "https://localhost:8080/",
          "height": 141
        },
        "id": "spu586LF_N7D",
        "outputId": "6912d472-da86-4bce-ca4f-c6913ee446db"
      },
      "execution_count": 165,
      "outputs": [
        {
          "output_type": "error",
          "ename": "NameError",
          "evalue": "name 'OMEPRAZOLE' is not defined",
          "traceback": [
            "\u001b[0;31m---------------------------------------------------------------------------\u001b[0m",
            "\u001b[0;31mNameError\u001b[0m                                 Traceback (most recent call last)",
            "\u001b[0;32m<ipython-input-165-a8c75516a535>\u001b[0m in \u001b[0;36m<cell line: 1>\u001b[0;34m()\u001b[0m\n\u001b[0;32m----> 1\u001b[0;31m \u001b[0mOMEPRAZOLE\u001b[0m\u001b[0;34m\u001b[0m\u001b[0;34m\u001b[0m\u001b[0m\n\u001b[0m",
            "\u001b[0;31mNameError\u001b[0m: name 'OMEPRAZOLE' is not defined"
          ]
        }
      ]
    },
    {
      "cell_type": "code",
      "source": [
        "'omeprazole'[10]"
      ],
      "metadata": {
        "colab": {
          "base_uri": "https://localhost:8080/",
          "height": 141
        },
        "id": "a5K6mk7w_UWB",
        "outputId": "bf686aec-d83d-4aa3-a3ae-c300147829cf"
      },
      "execution_count": 166,
      "outputs": [
        {
          "output_type": "error",
          "ename": "IndexError",
          "evalue": "string index out of range",
          "traceback": [
            "\u001b[0;31m---------------------------------------------------------------------------\u001b[0m",
            "\u001b[0;31mIndexError\u001b[0m                                Traceback (most recent call last)",
            "\u001b[0;32m<ipython-input-166-d5a6d256d319>\u001b[0m in \u001b[0;36m<cell line: 1>\u001b[0;34m()\u001b[0m\n\u001b[0;32m----> 1\u001b[0;31m \u001b[0;34m'omeprazole'\u001b[0m\u001b[0;34m[\u001b[0m\u001b[0;36m10\u001b[0m\u001b[0;34m]\u001b[0m\u001b[0;34m\u001b[0m\u001b[0;34m\u001b[0m\u001b[0m\n\u001b[0m",
            "\u001b[0;31mIndexError\u001b[0m: string index out of range"
          ]
        }
      ]
    },
    {
      "cell_type": "code",
      "source": [
        "'omeprazole'[9]"
      ],
      "metadata": {
        "colab": {
          "base_uri": "https://localhost:8080/",
          "height": 35
        },
        "id": "x1RCkYl5_e5a",
        "outputId": "531dbefe-29b5-4ead-d3e8-f137fbf6bdf6"
      },
      "execution_count": 167,
      "outputs": [
        {
          "output_type": "execute_result",
          "data": {
            "text/plain": [
              "'e'"
            ],
            "application/vnd.google.colaboratory.intrinsic+json": {
              "type": "string"
            }
          },
          "metadata": {},
          "execution_count": 167
        }
      ]
    },
    {
      "cell_type": "code",
      "source": [],
      "metadata": {
        "id": "_vyUlguw_iiT"
      },
      "execution_count": null,
      "outputs": []
    },
    {
      "cell_type": "markdown",
      "source": [
        "IMPORT LIBRARIES"
      ],
      "metadata": {
        "id": "tVfc4Dfj_-wb"
      }
    },
    {
      "cell_type": "code",
      "source": [
        "import numpy"
      ],
      "metadata": {
        "id": "hZrXWZS0ACDE"
      },
      "execution_count": 168,
      "outputs": []
    },
    {
      "cell_type": "code",
      "source": [
        "sample_array = numpy.array([10,20,30,40,50,60,70,80])"
      ],
      "metadata": {
        "id": "0PoE_lO1AFJk"
      },
      "execution_count": 170,
      "outputs": []
    },
    {
      "cell_type": "code",
      "source": [
        "reshaped_array = numpy.reshape(sample_array,(2,4))\n",
        "reshaped_array"
      ],
      "metadata": {
        "colab": {
          "base_uri": "https://localhost:8080/"
        },
        "id": "uUu6qB0MAUT7",
        "outputId": "29fc8d45-a2a3-4d10-849b-9d61413fdedb"
      },
      "execution_count": 171,
      "outputs": [
        {
          "output_type": "execute_result",
          "data": {
            "text/plain": [
              "array([[10, 20, 30, 40],\n",
              "       [50, 60, 70, 80]])"
            ]
          },
          "metadata": {},
          "execution_count": 171
        }
      ]
    },
    {
      "cell_type": "code",
      "source": [
        "import numpy as np"
      ],
      "metadata": {
        "id": "fh1yCmEDAh5-"
      },
      "execution_count": 172,
      "outputs": []
    },
    {
      "cell_type": "code",
      "source": [
        "np.transpose(reshaped_array)"
      ],
      "metadata": {
        "colab": {
          "base_uri": "https://localhost:8080/"
        },
        "id": "qjWts2RYAnDd",
        "outputId": "93c6ce47-2c92-43a8-dcbc-b2cee93a68ee"
      },
      "execution_count": 173,
      "outputs": [
        {
          "output_type": "execute_result",
          "data": {
            "text/plain": [
              "array([[10, 50],\n",
              "       [20, 60],\n",
              "       [30, 70],\n",
              "       [40, 80]])"
            ]
          },
          "metadata": {},
          "execution_count": 173
        }
      ]
    },
    {
      "cell_type": "code",
      "source": [
        "import transformers"
      ],
      "metadata": {
        "id": "lTBBS0KJAvEK"
      },
      "execution_count": 174,
      "outputs": []
    },
    {
      "cell_type": "code",
      "source": [
        "!pip uninstall transformers"
      ],
      "metadata": {
        "colab": {
          "base_uri": "https://localhost:8080/"
        },
        "id": "YQOI4n8QA2T2",
        "outputId": "a61ed97e-3299-47c8-9298-834352482fcb"
      },
      "execution_count": 176,
      "outputs": [
        {
          "output_type": "stream",
          "name": "stdout",
          "text": [
            "Found existing installation: transformers 4.40.0\n",
            "Uninstalling transformers-4.40.0:\n",
            "  Would remove:\n",
            "    /usr/local/bin/transformers-cli\n",
            "    /usr/local/lib/python3.10/dist-packages/transformers-4.40.0.dist-info/*\n",
            "    /usr/local/lib/python3.10/dist-packages/transformers/*\n",
            "Proceed (Y/n)? y\n",
            "  Successfully uninstalled transformers-4.40.0\n"
          ]
        }
      ]
    }
  ]
}